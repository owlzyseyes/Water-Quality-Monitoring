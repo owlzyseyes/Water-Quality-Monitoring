{
 "cells": [
  {
   "cell_type": "code",
   "execution_count": 1,
   "metadata": {},
   "outputs": [],
   "source": [
    "import pandas as pd\n",
    "import numpy as np\n",
    "import matplotlib.pyplot as plt\n",
    "import seaborn as sns\n",
    "import ee\n",
    "import geemap\n",
    "import geopandas as gpd\n",
    "import contextily as ctx\n",
    "from datetime import datetime, timedelta"
   ]
  },
  {
   "cell_type": "code",
   "execution_count": 2,
   "metadata": {},
   "outputs": [
    {
     "data": {
      "text/html": [
       "\n",
       "            <style>\n",
       "                .geemap-dark {\n",
       "                    --jp-widgets-color: white;\n",
       "                    --jp-widgets-label-color: white;\n",
       "                    --jp-ui-font-color1: white;\n",
       "                    --jp-layout-color2: #454545;\n",
       "                    background-color: #383838;\n",
       "                }\n",
       "\n",
       "                .geemap-dark .jupyter-button {\n",
       "                    --jp-layout-color3: #383838;\n",
       "                }\n",
       "\n",
       "                .geemap-colab {\n",
       "                    background-color: var(--colab-primary-surface-color, white);\n",
       "                }\n",
       "\n",
       "                .geemap-colab .jupyter-button {\n",
       "                    --jp-layout-color3: var(--colab-primary-surface-color, white);\n",
       "                }\n",
       "            </style>\n",
       "            "
      ],
      "text/plain": [
       "<IPython.core.display.HTML object>"
      ]
     },
     "metadata": {},
     "output_type": "display_data"
    },
    {
     "data": {
      "text/plain": [
       "True"
      ]
     },
     "execution_count": 2,
     "metadata": {},
     "output_type": "execute_result"
    }
   ],
   "source": [
    "#Authenticate with Earth Engine\n",
    "ee.Authenticate()"
   ]
  },
  {
   "cell_type": "code",
   "execution_count": 3,
   "metadata": {},
   "outputs": [
    {
     "data": {
      "text/html": [
       "\n",
       "            <style>\n",
       "                .geemap-dark {\n",
       "                    --jp-widgets-color: white;\n",
       "                    --jp-widgets-label-color: white;\n",
       "                    --jp-ui-font-color1: white;\n",
       "                    --jp-layout-color2: #454545;\n",
       "                    background-color: #383838;\n",
       "                }\n",
       "\n",
       "                .geemap-dark .jupyter-button {\n",
       "                    --jp-layout-color3: #383838;\n",
       "                }\n",
       "\n",
       "                .geemap-colab {\n",
       "                    background-color: var(--colab-primary-surface-color, white);\n",
       "                }\n",
       "\n",
       "                .geemap-colab .jupyter-button {\n",
       "                    --jp-layout-color3: var(--colab-primary-surface-color, white);\n",
       "                }\n",
       "            </style>\n",
       "            "
      ],
      "text/plain": [
       "<IPython.core.display.HTML object>"
      ]
     },
     "metadata": {},
     "output_type": "display_data"
    }
   ],
   "source": [
    "ee.Initialize()"
   ]
  },
  {
   "cell_type": "code",
   "execution_count": 4,
   "metadata": {},
   "outputs": [
    {
     "data": {
      "text/html": [
       "\n",
       "            <style>\n",
       "                .geemap-dark {\n",
       "                    --jp-widgets-color: white;\n",
       "                    --jp-widgets-label-color: white;\n",
       "                    --jp-ui-font-color1: white;\n",
       "                    --jp-layout-color2: #454545;\n",
       "                    background-color: #383838;\n",
       "                }\n",
       "\n",
       "                .geemap-dark .jupyter-button {\n",
       "                    --jp-layout-color3: #383838;\n",
       "                }\n",
       "\n",
       "                .geemap-colab {\n",
       "                    background-color: var(--colab-primary-surface-color, white);\n",
       "                }\n",
       "\n",
       "                .geemap-colab .jupyter-button {\n",
       "                    --jp-layout-color3: var(--colab-primary-surface-color, white);\n",
       "                }\n",
       "            </style>\n",
       "            "
      ],
      "text/plain": [
       "<IPython.core.display.HTML object>"
      ]
     },
     "metadata": {},
     "output_type": "display_data"
    }
   ],
   "source": [
    "#Load the Lake Victoria shapefile Asset\n",
    "lake = \"projects/water-quality-441207/assets/lake_victoria\"\n",
    "lake = ee.FeatureCollection(lake)"
   ]
  },
  {
   "cell_type": "code",
   "execution_count": 5,
   "metadata": {},
   "outputs": [
    {
     "data": {
      "text/html": [
       "\n",
       "            <style>\n",
       "                .geemap-dark {\n",
       "                    --jp-widgets-color: white;\n",
       "                    --jp-widgets-label-color: white;\n",
       "                    --jp-ui-font-color1: white;\n",
       "                    --jp-layout-color2: #454545;\n",
       "                    background-color: #383838;\n",
       "                }\n",
       "\n",
       "                .geemap-dark .jupyter-button {\n",
       "                    --jp-layout-color3: #383838;\n",
       "                }\n",
       "\n",
       "                .geemap-colab {\n",
       "                    background-color: var(--colab-primary-surface-color, white);\n",
       "                }\n",
       "\n",
       "                .geemap-colab .jupyter-button {\n",
       "                    --jp-layout-color3: var(--colab-primary-surface-color, white);\n",
       "                }\n",
       "            </style>\n",
       "            "
      ],
      "text/plain": [
       "<IPython.core.display.HTML object>"
      ]
     },
     "metadata": {},
     "output_type": "display_data"
    },
    {
     "data": {
      "application/vnd.jupyter.widget-view+json": {
       "model_id": "aabe3ba0866a46289826765181e5bf16",
       "version_major": 2,
       "version_minor": 0
      },
      "text/plain": [
       "Map(center=[0, 0], controls=(WidgetControl(options=['position', 'transparent_bg'], widget=SearchDataGUI(childr…"
      ]
     },
     "execution_count": 5,
     "metadata": {},
     "output_type": "execute_result"
    }
   ],
   "source": [
    "#Create map\n",
    "m = geemap.Map()\n",
    "m"
   ]
  },
  {
   "cell_type": "code",
   "execution_count": 6,
   "metadata": {},
   "outputs": [
    {
     "data": {
      "text/html": [
       "\n",
       "            <style>\n",
       "                .geemap-dark {\n",
       "                    --jp-widgets-color: white;\n",
       "                    --jp-widgets-label-color: white;\n",
       "                    --jp-ui-font-color1: white;\n",
       "                    --jp-layout-color2: #454545;\n",
       "                    background-color: #383838;\n",
       "                }\n",
       "\n",
       "                .geemap-dark .jupyter-button {\n",
       "                    --jp-layout-color3: #383838;\n",
       "                }\n",
       "\n",
       "                .geemap-colab {\n",
       "                    background-color: var(--colab-primary-surface-color, white);\n",
       "                }\n",
       "\n",
       "                .geemap-colab .jupyter-button {\n",
       "                    --jp-layout-color3: var(--colab-primary-surface-color, white);\n",
       "                }\n",
       "            </style>\n",
       "            "
      ],
      "text/plain": [
       "<IPython.core.display.HTML object>"
      ]
     },
     "metadata": {},
     "output_type": "display_data"
    }
   ],
   "source": [
    "#add the lake as layer\n",
    "m.addLayer(lake, {}, 'Lake Victoria')\n",
    "m.centerObject(lake, 7)"
   ]
  },
  {
   "cell_type": "code",
   "execution_count": 11,
   "metadata": {},
   "outputs": [
    {
     "data": {
      "text/html": [
       "\n",
       "            <style>\n",
       "                .geemap-dark {\n",
       "                    --jp-widgets-color: white;\n",
       "                    --jp-widgets-label-color: white;\n",
       "                    --jp-ui-font-color1: white;\n",
       "                    --jp-layout-color2: #454545;\n",
       "                    background-color: #383838;\n",
       "                }\n",
       "\n",
       "                .geemap-dark .jupyter-button {\n",
       "                    --jp-layout-color3: #383838;\n",
       "                }\n",
       "\n",
       "                .geemap-colab {\n",
       "                    background-color: var(--colab-primary-surface-color, white);\n",
       "                }\n",
       "\n",
       "                .geemap-colab .jupyter-button {\n",
       "                    --jp-layout-color3: var(--colab-primary-surface-color, white);\n",
       "                }\n",
       "            </style>\n",
       "            "
      ],
      "text/plain": [
       "<IPython.core.display.HTML object>"
      ]
     },
     "metadata": {},
     "output_type": "display_data"
    }
   ],
   "source": [
    "# Define a function to mask clouds in Sentinel-2 images\n",
    "def mask_s2_clouds(image):\n",
    "    qa = image.select('QA60')\n",
    "    cloud_bit_mask = 1 << 10\n",
    "    cirrus_bit_mask = 1 << 11\n",
    "    mask = qa.bitwiseAnd(cloud_bit_mask).eq(0).And(qa.bitwiseAnd(cirrus_bit_mask).eq(0))\n",
    "    return image.updateMask(mask).divide(10000)\n",
    "\n",
    "# Load and preprocess Sentinel-2 dataset\n",
    "s2_dataset = (\n",
    "    ee.ImageCollection('COPERNICUS/S2_SR_HARMONIZED')\n",
    "    .filterDate('2017-03-28', '2024-11-12')\n",
    "    .filter(ee.Filter.lt('CLOUDY_PIXEL_PERCENTAGE', 20))\n",
    "    .map(mask_s2_clouds)\n",
    ")\n",
    "\n",
    "# Calculate NDWI\n",
    "ndwi_bands = ['B3', 'B8']\n",
    "ndwi = s2_dataset.map(lambda image: image.normalizedDifference(ndwi_bands).rename('ndwi'))\n",
    "\n",
    "# Calculate NDCI\n",
    "ndci_bands = ['B5', 'B4']\n",
    "ndci = s2_dataset.map(lambda image: image.normalizedDifference(ndci_bands).rename('ndci'))\n",
    "\n",
    "# Calculate NDTI\n",
    "ndti_bands = ['B5', 'B11']\n",
    "ndti = s2_dataset.map(lambda image: image.normalizedDifference(ndti_bands).rename('ndti'))\n",
    "\n",
    "# Calculate pH\n",
    "ph = s2_dataset.map(lambda image: ee.Image(8.339).subtract(ee.Image(0.827).multiply(image.select('B1').divide(image.select('B8')))).rename('ph'))\n",
    "\n",
    "# Calculate chlorophyll-a (chl_a)\n",
    "chl_a = s2_dataset.map(lambda image: image.select('B3').divide(0.1).divide(image.select('B2').divide(0.1)).pow(2.72).multiply(10.8).rename('chl_a'))\n",
    "\n",
    "# Calculate SSC\n",
    "ssc = s2_dataset.map(lambda image: ee.Image(0.0113).multiply(image.select('ndwi').pow(3))\n",
    "                    .subtract(ee.Image(0.0135).multiply(image.select('ndwi').pow(2)))\n",
    "                    .add(ee.Image(0.0075).multiply(image.select('ndwi')))\n",
    "                    .add(ee.Image(2.5823)).rename('ssc'))\n",
    "\n",
    "# Calculate Water Surface Temperature (WST)\n",
    "tir2 = s2_dataset.select('B11')\n",
    "kelvin = tir2.map(lambda image: image.divide(10).add(273.15))\n",
    "lst = kelvin.map(lambda image: image.divide(ee.Image(1).toFloat().divide(image.divide(14380).add(1).log())))\n",
    "emissivity = ee.Image(0.98)\n",
    "atm_corr = lst.map(lambda image: image.multiply(0.99).add(0.11).multiply(emissivity).subtract(2.5))\n",
    "wst = atm_corr.map(lambda image: image.subtract(273.15).rename('wst'))\n",
    "\n",
    "# Redefine s2_dataset by adding computed indices directly to each image\n",
    "s2_dataset = s2_dataset.map(lambda image: \n",
    "    image.addBands([\n",
    "        image.normalizedDifference(ndwi_bands).rename('ndwi'),\n",
    "        image.normalizedDifference(ndci_bands).rename('ndci'),\n",
    "        image.normalizedDifference(ndti_bands).rename('ndti'),\n",
    "        ee.Image(8.339).subtract(ee.Image(0.827).multiply(image.select('B1').divide(image.select('B8')))).rename('ph'),\n",
    "        image.select('B3').divide(0.1).divide(image.select('B2').divide(0.1)).pow(2.72).multiply(10.8).rename('chl_a'),\n",
    "        ee.Image(0.0113).multiply(image.normalizedDifference(ndwi_bands).pow(3))\n",
    "            .subtract(ee.Image(0.0135).multiply(image.normalizedDifference(ndwi_bands).pow(2)))\n",
    "            .add(ee.Image(0.0075).multiply(image.normalizedDifference(ndwi_bands)))\n",
    "            .add(ee.Image(2.5823)).rename('ssc'),\n",
    "        image.select('B11').divide(10).add(273.15).divide(\n",
    "            ee.Image(1).divide(image.select('B11').divide(14380).add(1).log())\n",
    "        ).multiply(0.99).add(0.11).multiply(emissivity).subtract(2.5).subtract(273.15).rename('wst')\n",
    "    ])\n",
    ")\n",
    "\n",
    "\n"
   ]
  },
  {
   "cell_type": "code",
   "execution_count": 12,
   "metadata": {},
   "outputs": [
    {
     "data": {
      "text/html": [
       "\n",
       "            <style>\n",
       "                .geemap-dark {\n",
       "                    --jp-widgets-color: white;\n",
       "                    --jp-widgets-label-color: white;\n",
       "                    --jp-ui-font-color1: white;\n",
       "                    --jp-layout-color2: #454545;\n",
       "                    background-color: #383838;\n",
       "                }\n",
       "\n",
       "                .geemap-dark .jupyter-button {\n",
       "                    --jp-layout-color3: #383838;\n",
       "                }\n",
       "\n",
       "                .geemap-colab {\n",
       "                    background-color: var(--colab-primary-surface-color, white);\n",
       "                }\n",
       "\n",
       "                .geemap-colab .jupyter-button {\n",
       "                    --jp-layout-color3: var(--colab-primary-surface-color, white);\n",
       "                }\n",
       "            </style>\n",
       "            "
      ],
      "text/plain": [
       "<IPython.core.display.HTML object>"
      ]
     },
     "metadata": {},
     "output_type": "display_data"
    }
   ],
   "source": [
    "# Function to get the start dates with a weekly interval\n",
    "def get_dates(start_date, end_date):\n",
    "    start = datetime.strptime(start_date, '%Y-%m-%d')\n",
    "    end = datetime.strptime(end_date, '%Y-%m-%d')\n",
    "    dates = []\n",
    "    while start <= end:\n",
    "        dates.append(start.strftime('%Y-%m-%d'))\n",
    "        start += timedelta(days=7)\n",
    "    return dates\n"
   ]
  },
  {
   "cell_type": "code",
   "execution_count": 13,
   "metadata": {},
   "outputs": [
    {
     "data": {
      "text/html": [
       "\n",
       "            <style>\n",
       "                .geemap-dark {\n",
       "                    --jp-widgets-color: white;\n",
       "                    --jp-widgets-label-color: white;\n",
       "                    --jp-ui-font-color1: white;\n",
       "                    --jp-layout-color2: #454545;\n",
       "                    background-color: #383838;\n",
       "                }\n",
       "\n",
       "                .geemap-dark .jupyter-button {\n",
       "                    --jp-layout-color3: #383838;\n",
       "                }\n",
       "\n",
       "                .geemap-colab {\n",
       "                    background-color: var(--colab-primary-surface-color, white);\n",
       "                }\n",
       "\n",
       "                .geemap-colab .jupyter-button {\n",
       "                    --jp-layout-color3: var(--colab-primary-surface-color, white);\n",
       "                }\n",
       "            </style>\n",
       "            "
      ],
      "text/plain": [
       "<IPython.core.display.HTML object>"
      ]
     },
     "metadata": {},
     "output_type": "display_data"
    }
   ],
   "source": [
    "# Define the function to compute weekly averages for a given band\n",
    "def compute_weekly_averages(dataset, band_name, start_date, end_date, output_file):\n",
    "    # Define the date range\n",
    "    start = ee.Date(start_date)\n",
    "    end = ee.Date(end_date)\n",
    "    \n",
    "    # Generate a list of weeks using get_dates function\n",
    "    weeks = get_dates(start_date, end_date)\n",
    "\n",
    "    all_stats = []\n",
    "\n",
    "    for week_start in weeks:\n",
    "        week_start = ee.Date(week_start)\n",
    "        week_end = week_start.advance(1, 'week')\n",
    "        \n",
    "        # Filter the dataset for the week and select the band\n",
    "        weekly_data = dataset.filterDate(week_start, week_end).select(band_name).mean()\n",
    "        \n",
    "        # Ensure the image has the band\n",
    "        if weekly_data.bandNames().size().getInfo() == 0:\n",
    "            print(f\"No data for week starting {week_start.format('YYYY-MM-dd').getInfo()}\")\n",
    "            continue\n",
    "        \n",
    "        # Compute the zonal statistics\n",
    "        stats = geemap.zonal_stats(\n",
    "            weekly_data, \n",
    "            lake, \n",
    "            None,  # No need to save intermediate files\n",
    "            stat_type='MEAN', \n",
    "            scale=1000, \n",
    "            return_fc=True\n",
    "        )\n",
    "        \n",
    "        # Convert the results to a DataFrame and add the week column\n",
    "        df = geemap.ee_to_df(stats)\n",
    "        df['week_start'] = week_start.format('YYYY-MM-dd').getInfo()\n",
    "        all_stats.append(df)\n",
    "    \n",
    "    # Concatenate all weekly DataFrames into a single DataFrame\n",
    "    final_df = pd.concat(all_stats, ignore_index=True)\n",
    "    \n",
    "    # Save the final DataFrame to a CSV file\n",
    "    final_df.to_csv(output_file, index=False)\n",
    "    \n",
    "    return output_file\n",
    "\n",
    "# Define the function to compute weekly NDWI averages\n",
    "def compute_weekly_ndwi_averages(start_date, end_date):\n",
    "    ndwi_bands = ['B3', 'B8']\n",
    "    ndwi_dataset = s2_dataset.map(lambda image: image.normalizedDifference(ndwi_bands).rename('ndwi'))\n",
    "    output_file = 'ndwi_weekly.csv'\n",
    "    return compute_weekly_averages(ndwi_dataset, 'ndwi', start_date, end_date, output_file)\n",
    "\n",
    "# Define the function to compute weekly NDCI averages\n",
    "def compute_weekly_ndci_averages(start_date, end_date):\n",
    "    ndci_bands = ['B5', 'B4']\n",
    "    ndci_dataset = s2_dataset.map(lambda image: image.normalizedDifference(ndci_bands).rename('ndci'))\n",
    "    output_file = 'ndci_weekly.csv'\n",
    "    return compute_weekly_averages(ndci_dataset, 'ndci', start_date, end_date, output_file)\n",
    "\n",
    "# Define the function to compute weekly NDTI averages\n",
    "def compute_weekly_ndti_averages(start_date, end_date):\n",
    "    ndti_bands = ['B5', 'B11']\n",
    "    ndti_dataset = s2_dataset.map(lambda image: image.normalizedDifference(ndti_bands).rename('ndti'))\n",
    "    output_file = 'ndti_weekly.csv'\n",
    "    return compute_weekly_averages(ndti_dataset, 'ndti', start_date, end_date, output_file)\n",
    "\n",
    "# Define the function to compute weekly pH averages\n",
    "def compute_weekly_ph_averages(start_date, end_date):\n",
    "    ph_dataset = s2_dataset.map(lambda image: ee.Image(8.339).subtract(ee.Image(0.827).multiply(image.select('B1').divide(image.select('B8')))).rename('ph'))\n",
    "    output_file = 'ph_weekly.csv'\n",
    "    return compute_weekly_averages(ph_dataset, 'ph', start_date, end_date, output_file)\n",
    "\n",
    "# Define the function to compute weekly chlorophyll-a averages\n",
    "def compute_weekly_chl_a_averages(start_date, end_date):\n",
    "    chl_a_dataset = s2_dataset.map(lambda image: image.select('B3').divide(0.1).divide(image.select('B2').divide(0.1)).pow(2.72).multiply(10.8).rename('chl_a'))\n",
    "    output_file = 'chl_a_weekly.csv'\n",
    "    return compute_weekly_averages(chl_a_dataset, 'chl_a', start_date, end_date, output_file)\n",
    "\n",
    "# Define the function to compute weekly SSC averages\n",
    "def compute_weekly_ssc_averages(start_date, end_date):\n",
    "    ssc_dataset = s2_dataset.map(lambda image: ee.Image(0.0113).multiply(image.select('ndwi').pow(3))\n",
    "                                .subtract(ee.Image(0.0135).multiply(image.select('ndwi').pow(2)))\n",
    "                                .add(ee.Image(0.0075).multiply(image.select('ndwi')))\n",
    "                                .add(ee.Image(2.5823)).rename('ssc'))\n",
    "    output_file = 'ssc_weekly.csv'\n",
    "    return compute_weekly_averages(ssc_dataset, 'ssc', start_date, end_date, output_file)"
   ]
  },
  {
   "cell_type": "code",
   "execution_count": null,
   "metadata": {},
   "outputs": [
    {
     "data": {
      "text/html": [
       "\n",
       "            <style>\n",
       "                .geemap-dark {\n",
       "                    --jp-widgets-color: white;\n",
       "                    --jp-widgets-label-color: white;\n",
       "                    --jp-ui-font-color1: white;\n",
       "                    --jp-layout-color2: #454545;\n",
       "                    background-color: #383838;\n",
       "                }\n",
       "\n",
       "                .geemap-dark .jupyter-button {\n",
       "                    --jp-layout-color3: #383838;\n",
       "                }\n",
       "\n",
       "                .geemap-colab {\n",
       "                    background-color: var(--colab-primary-surface-color, white);\n",
       "                }\n",
       "\n",
       "                .geemap-colab .jupyter-button {\n",
       "                    --jp-layout-color3: var(--colab-primary-surface-color, white);\n",
       "                }\n",
       "            </style>\n",
       "            "
      ],
      "text/plain": [
       "<IPython.core.display.HTML object>"
      ]
     },
     "metadata": {},
     "output_type": "display_data"
    }
   ],
   "source": [
    "#Compute weekly NDCI averages\n",
    "ndci_output_file = compute_weekly_ndci_averages('2017-03-28', '2024-11-12')\n",
    "print(f'Weekly NDCI averages saved to {ndci_output_file}')"
   ]
  },
  {
   "cell_type": "code",
   "execution_count": null,
   "metadata": {},
   "outputs": [],
   "source": [
    "# # Compute the weekly averages for each band\n",
    "# ndwi_output_file = compute_weekly_ndwi_averages(start_date, end_date)\n",
    "# ndci_output_file = compute_weekly_ndci_averages(start_date, end_date)\n",
    "# ndti_output_file = compute_weekly_ndti_averages(start_date, end_date)\n",
    "# ph_output_file = compute_weekly_ph_averages(start_date, end_date)\n",
    "# chl_a_output_file = compute_weekly_chl_a_averages(start_date, end_date)\n",
    "# ssc_output_file = compute_weekly_ssc_averages(start_date, end_date)"
   ]
  },
  {
   "cell_type": "code",
   "execution_count": null,
   "metadata": {},
   "outputs": [],
   "source": [
    "\n",
    "# print(f'Weekly NDWI averages saved to {ndwi_output_file}')\n",
    "# print(f'Weekly NDCI averages saved to {ndci_output_file}')\n",
    "# print(f'Weekly NDTI averages saved to {ndti_output_file}')\n",
    "# print(f'Weekly pH averages saved to {ph_output_file}')\n",
    "# print(f'Weekly chlorophyll-a averages saved to {chl_a_output_file}')\n",
    "# print(f'Weekly SSC averages saved to {ssc_output_file}')"
   ]
  }
 ],
 "metadata": {
  "kernelspec": {
   "display_name": "Python 3",
   "language": "python",
   "name": "python3"
  },
  "language_info": {
   "codemirror_mode": {
    "name": "ipython",
    "version": 3
   },
   "file_extension": ".py",
   "mimetype": "text/x-python",
   "name": "python",
   "nbconvert_exporter": "python",
   "pygments_lexer": "ipython3",
   "version": "3.13.0"
  }
 },
 "nbformat": 4,
 "nbformat_minor": 2
}
