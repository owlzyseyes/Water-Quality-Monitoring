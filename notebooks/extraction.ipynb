{
 "cells": [
  {
   "cell_type": "code",
   "execution_count": 1,
   "metadata": {},
   "outputs": [],
   "source": [
    "import pandas as pd\n",
    "import numpy as np\n",
    "import matplotlib.pyplot as plt\n",
    "import seaborn as sns\n",
    "import ee\n",
    "import geemap\n",
    "import geopandas as gpd\n",
    "import contextily as ctx\n",
    "from datetime import datetime, timedelta"
   ]
  },
  {
   "cell_type": "code",
   "execution_count": null,
   "metadata": {},
   "outputs": [
    {
     "data": {
      "text/html": [
       "\n",
       "            <style>\n",
       "                .geemap-dark {\n",
       "                    --jp-widgets-color: white;\n",
       "                    --jp-widgets-label-color: white;\n",
       "                    --jp-ui-font-color1: white;\n",
       "                    --jp-layout-color2: #454545;\n",
       "                    background-color: #383838;\n",
       "                }\n",
       "\n",
       "                .geemap-dark .jupyter-button {\n",
       "                    --jp-layout-color3: #383838;\n",
       "                }\n",
       "\n",
       "                .geemap-colab {\n",
       "                    background-color: var(--colab-primary-surface-color, white);\n",
       "                }\n",
       "\n",
       "                .geemap-colab .jupyter-button {\n",
       "                    --jp-layout-color3: var(--colab-primary-surface-color, white);\n",
       "                }\n",
       "            </style>\n",
       "            "
      ],
      "text/plain": [
       "<IPython.core.display.HTML object>"
      ]
     },
     "metadata": {},
     "output_type": "display_data"
    }
   ],
   "source": [
    "#Read the Lake geometry\n",
    "gdf = gpd.read_file('Lake_Victoria_Shapefile.geojson')"
   ]
  },
  {
   "cell_type": "code",
   "execution_count": null,
   "metadata": {},
   "outputs": [
    {
     "data": {
      "text/html": [
       "\n",
       "            <style>\n",
       "                .geemap-dark {\n",
       "                    --jp-widgets-color: white;\n",
       "                    --jp-widgets-label-color: white;\n",
       "                    --jp-ui-font-color1: white;\n",
       "                    --jp-layout-color2: #454545;\n",
       "                    background-color: #383838;\n",
       "                }\n",
       "\n",
       "                .geemap-dark .jupyter-button {\n",
       "                    --jp-layout-color3: #383838;\n",
       "                }\n",
       "\n",
       "                .geemap-colab {\n",
       "                    background-color: var(--colab-primary-surface-color, white);\n",
       "                }\n",
       "\n",
       "                .geemap-colab .jupyter-button {\n",
       "                    --jp-layout-color3: var(--colab-primary-surface-color, white);\n",
       "                }\n",
       "            </style>\n",
       "            "
      ],
      "text/plain": [
       "<IPython.core.display.HTML object>"
      ]
     },
     "metadata": {},
     "output_type": "display_data"
    },
    {
     "data": {
      "text/html": [
       "<div>\n",
       "<style scoped>\n",
       "    .dataframe tbody tr th:only-of-type {\n",
       "        vertical-align: middle;\n",
       "    }\n",
       "\n",
       "    .dataframe tbody tr th {\n",
       "        vertical-align: top;\n",
       "    }\n",
       "\n",
       "    .dataframe thead th {\n",
       "        text-align: right;\n",
       "    }\n",
       "</style>\n",
       "<table border=\"1\" class=\"dataframe\">\n",
       "  <thead>\n",
       "    <tr style=\"text-align: right;\">\n",
       "      <th></th>\n",
       "      <th>FID</th>\n",
       "      <th>Hylak_id</th>\n",
       "      <th>Lake_name</th>\n",
       "      <th>Country</th>\n",
       "      <th>Continent</th>\n",
       "      <th>Poly_src</th>\n",
       "      <th>Lake_type</th>\n",
       "      <th>Grand_id</th>\n",
       "      <th>Lake_area</th>\n",
       "      <th>Shore_len</th>\n",
       "      <th>...</th>\n",
       "      <th>Dis_avg</th>\n",
       "      <th>Res_time</th>\n",
       "      <th>Elevation</th>\n",
       "      <th>Slope_100</th>\n",
       "      <th>Wshd_area</th>\n",
       "      <th>Pour_long</th>\n",
       "      <th>Pour_lat</th>\n",
       "      <th>Shape__Area</th>\n",
       "      <th>Shape__Length</th>\n",
       "      <th>geometry</th>\n",
       "    </tr>\n",
       "  </thead>\n",
       "  <tbody>\n",
       "    <tr>\n",
       "      <th>0</th>\n",
       "      <td>1</td>\n",
       "      <td>16</td>\n",
       "      <td>Victoria</td>\n",
       "      <td>Uganda</td>\n",
       "      <td>Africa</td>\n",
       "      <td>SWBD</td>\n",
       "      <td>3</td>\n",
       "      <td>4492</td>\n",
       "      <td>67166.22</td>\n",
       "      <td>7422.44</td>\n",
       "      <td>...</td>\n",
       "      <td>1735.515</td>\n",
       "      <td>18406.3</td>\n",
       "      <td>1134</td>\n",
       "      <td>-1</td>\n",
       "      <td>265372.8</td>\n",
       "      <td>33.193791</td>\n",
       "      <td>0.430999</td>\n",
       "      <td>6.735347e+10</td>\n",
       "      <td>7.450418e+06</td>\n",
       "      <td>POLYGON ((31.91181 -2.72236, 31.91141 -2.72289...</td>\n",
       "    </tr>\n",
       "  </tbody>\n",
       "</table>\n",
       "<p>1 rows × 25 columns</p>\n",
       "</div>"
      ],
      "text/plain": [
       "   FID  Hylak_id Lake_name Country Continent Poly_src  Lake_type  Grand_id  \\\n",
       "0    1        16  Victoria  Uganda    Africa     SWBD          3      4492   \n",
       "\n",
       "   Lake_area  Shore_len  ...   Dis_avg  Res_time  Elevation  Slope_100  \\\n",
       "0   67166.22    7422.44  ...  1735.515   18406.3       1134         -1   \n",
       "\n",
       "   Wshd_area  Pour_long  Pour_lat   Shape__Area  Shape__Length  \\\n",
       "0   265372.8  33.193791  0.430999  6.735347e+10   7.450418e+06   \n",
       "\n",
       "                                            geometry  \n",
       "0  POLYGON ((31.91181 -2.72236, 31.91141 -2.72289...  \n",
       "\n",
       "[1 rows x 25 columns]"
      ]
     },
     "execution_count": 3,
     "metadata": {},
     "output_type": "execute_result"
    }
   ],
   "source": [
    "#Inspection\n",
    "gdf.head()"
   ]
  },
  {
   "cell_type": "code",
   "execution_count": null,
   "metadata": {},
   "outputs": [
    {
     "data": {
      "text/html": [
       "\n",
       "            <style>\n",
       "                .geemap-dark {\n",
       "                    --jp-widgets-color: white;\n",
       "                    --jp-widgets-label-color: white;\n",
       "                    --jp-ui-font-color1: white;\n",
       "                    --jp-layout-color2: #454545;\n",
       "                    background-color: #383838;\n",
       "                }\n",
       "\n",
       "                .geemap-dark .jupyter-button {\n",
       "                    --jp-layout-color3: #383838;\n",
       "                }\n",
       "\n",
       "                .geemap-colab {\n",
       "                    background-color: var(--colab-primary-surface-color, white);\n",
       "                }\n",
       "\n",
       "                .geemap-colab .jupyter-button {\n",
       "                    --jp-layout-color3: var(--colab-primary-surface-color, white);\n",
       "                }\n",
       "            </style>\n",
       "            "
      ],
      "text/plain": [
       "<IPython.core.display.HTML object>"
      ]
     },
     "metadata": {},
     "output_type": "display_data"
    },
    {
     "data": {
      "text/plain": [
       "<Geographic 2D CRS: EPSG:4326>\n",
       "Name: WGS 84\n",
       "Axis Info [ellipsoidal]:\n",
       "- Lat[north]: Geodetic latitude (degree)\n",
       "- Lon[east]: Geodetic longitude (degree)\n",
       "Area of Use:\n",
       "- name: World.\n",
       "- bounds: (-180.0, -90.0, 180.0, 90.0)\n",
       "Datum: World Geodetic System 1984 ensemble\n",
       "- Ellipsoid: WGS 84\n",
       "- Prime Meridian: Greenwich"
      ]
     },
     "execution_count": 4,
     "metadata": {},
     "output_type": "execute_result"
    }
   ],
   "source": [
    "gdf.crs"
   ]
  },
  {
   "cell_type": "code",
   "execution_count": null,
   "metadata": {},
   "outputs": [
    {
     "data": {
      "text/html": [
       "\n",
       "            <style>\n",
       "                .geemap-dark {\n",
       "                    --jp-widgets-color: white;\n",
       "                    --jp-widgets-label-color: white;\n",
       "                    --jp-ui-font-color1: white;\n",
       "                    --jp-layout-color2: #454545;\n",
       "                    background-color: #383838;\n",
       "                }\n",
       "\n",
       "                .geemap-dark .jupyter-button {\n",
       "                    --jp-layout-color3: #383838;\n",
       "                }\n",
       "\n",
       "                .geemap-colab {\n",
       "                    background-color: var(--colab-primary-surface-color, white);\n",
       "                }\n",
       "\n",
       "                .geemap-colab .jupyter-button {\n",
       "                    --jp-layout-color3: var(--colab-primary-surface-color, white);\n",
       "                }\n",
       "            </style>\n",
       "            "
      ],
      "text/plain": [
       "<IPython.core.display.HTML object>"
      ]
     },
     "metadata": {},
     "output_type": "display_data"
    },
    {
     "name": "stderr",
     "output_type": "stream",
     "text": [
      "/home/codespace/miniconda3/envs/H20/lib/python3.13/site-packages/contextily/tile.py:645: UserWarning: The inferred zoom level of 25 is not valid for the current tile provider (valid zooms: 0 - 19).\n",
      "  warnings.warn(msg)\n"
     ]
    },
    {
     "data": {
      "image/png": "[encoded data removed]",
      "text/plain": [
       "<Figure size 900x900 with 1 Axes>"
      ]
     },
     "metadata": {},
     "output_type": "display_data"
    }
   ],
   "source": [
    "#Use contextily\n",
    "ax = gdf.to_crs(epsg=4326).plot(figsize=(9, 9), alpha=0.5, edgecolor='k')\n",
    "ctx.add_basemap(ax, source=ctx.providers.OpenStreetMap.Mapnik)\n",
    "plt.show()"
   ]
  },
  {
   "cell_type": "markdown",
   "metadata": {},
   "source": [
    "### Up to this point, we just inspected the file."
   ]
  },
  {
   "cell_type": "code",
   "execution_count": null,
   "metadata": {},
   "outputs": [
    {
     "data": {
      "text/html": [
       "\n",
       "            <style>\n",
       "                .geemap-dark {\n",
       "                    --jp-widgets-color: white;\n",
       "                    --jp-widgets-label-color: white;\n",
       "                    --jp-ui-font-color1: white;\n",
       "                    --jp-layout-color2: #454545;\n",
       "                    background-color: #383838;\n",
       "                }\n",
       "\n",
       "                .geemap-dark .jupyter-button {\n",
       "                    --jp-layout-color3: #383838;\n",
       "                }\n",
       "\n",
       "                .geemap-colab {\n",
       "                    background-color: var(--colab-primary-surface-color, white);\n",
       "                }\n",
       "\n",
       "                .geemap-colab .jupyter-button {\n",
       "                    --jp-layout-color3: var(--colab-primary-surface-color, white);\n",
       "                }\n",
       "            </style>\n",
       "            "
      ],
      "text/plain": [
       "<IPython.core.display.HTML object>"
      ]
     },
     "metadata": {},
     "output_type": "display_data"
    },
    {
     "data": {
      "text/plain": [
       "True"
      ]
     },
     "execution_count": 6,
     "metadata": {},
     "output_type": "execute_result"
    }
   ],
   "source": [
    "#Authenticate with Earth Engine\n",
    "ee.Authenticate()"
   ]
  },
  {
   "cell_type": "code",
   "execution_count": null,
   "metadata": {},
   "outputs": [
    {
     "data": {
      "text/html": [
       "\n",
       "            <style>\n",
       "                .geemap-dark {\n",
       "                    --jp-widgets-color: white;\n",
       "                    --jp-widgets-label-color: white;\n",
       "                    --jp-ui-font-color1: white;\n",
       "                    --jp-layout-color2: #454545;\n",
       "                    background-color: #383838;\n",
       "                }\n",
       "\n",
       "                .geemap-dark .jupyter-button {\n",
       "                    --jp-layout-color3: #383838;\n",
       "                }\n",
       "\n",
       "                .geemap-colab {\n",
       "                    background-color: var(--colab-primary-surface-color, white);\n",
       "                }\n",
       "\n",
       "                .geemap-colab .jupyter-button {\n",
       "                    --jp-layout-color3: var(--colab-primary-surface-color, white);\n",
       "                }\n",
       "            </style>\n",
       "            "
      ],
      "text/plain": [
       "<IPython.core.display.HTML object>"
      ]
     },
     "metadata": {},
     "output_type": "display_data"
    }
   ],
   "source": [
    "#Initialize\n",
    "ee.Initialize()"
   ]
  },
  {
   "cell_type": "code",
   "execution_count": null,
   "metadata": {},
   "outputs": [
    {
     "data": {
      "text/html": [
       "\n",
       "            <style>\n",
       "                .geemap-dark {\n",
       "                    --jp-widgets-color: white;\n",
       "                    --jp-widgets-label-color: white;\n",
       "                    --jp-ui-font-color1: white;\n",
       "                    --jp-layout-color2: #454545;\n",
       "                    background-color: #383838;\n",
       "                }\n",
       "\n",
       "                .geemap-dark .jupyter-button {\n",
       "                    --jp-layout-color3: #383838;\n",
       "                }\n",
       "\n",
       "                .geemap-colab {\n",
       "                    background-color: var(--colab-primary-surface-color, white);\n",
       "                }\n",
       "\n",
       "                .geemap-colab .jupyter-button {\n",
       "                    --jp-layout-color3: var(--colab-primary-surface-color, white);\n",
       "                }\n",
       "            </style>\n",
       "            "
      ],
      "text/plain": [
       "<IPython.core.display.HTML object>"
      ]
     },
     "metadata": {},
     "output_type": "display_data"
    }
   ],
   "source": [
    "# Convert the geodataframe to ee object\n",
    "lake_victoria = geemap.gdf_to_ee(gdf)"
   ]
  },
  {
   "cell_type": "code",
   "execution_count": null,
   "metadata": {},
   "outputs": [
    {
     "data": {
      "text/html": [
       "\n",
       "            <style>\n",
       "                .geemap-dark {\n",
       "                    --jp-widgets-color: white;\n",
       "                    --jp-widgets-label-color: white;\n",
       "                    --jp-ui-font-color1: white;\n",
       "                    --jp-layout-color2: #454545;\n",
       "                    background-color: #383838;\n",
       "                }\n",
       "\n",
       "                .geemap-dark .jupyter-button {\n",
       "                    --jp-layout-color3: #383838;\n",
       "                }\n",
       "\n",
       "                .geemap-colab {\n",
       "                    background-color: var(--colab-primary-surface-color, white);\n",
       "                }\n",
       "\n",
       "                .geemap-colab .jupyter-button {\n",
       "                    --jp-layout-color3: var(--colab-primary-surface-color, white);\n",
       "                }\n",
       "            </style>\n",
       "            "
      ],
      "text/plain": [
       "<IPython.core.display.HTML object>"
      ]
     },
     "metadata": {},
     "output_type": "display_data"
    },
    {
     "data": {
      "application/vnd.jupyter.widget-view+json": {
       "model_id": "7dd8374630314919ae2c4d5bfbb1647c",
       "version_major": 2,
       "version_minor": 0
      },
      "text/plain": [
       "Map(center=[0, 0], controls=(WidgetControl(options=['position', 'transparent_bg'], widget=SearchDataGUI(childr…"
      ]
     },
     "execution_count": 9,
     "metadata": {},
     "output_type": "execute_result"
    }
   ],
   "source": [
    "#Create map\n",
    "m = geemap.Map()\n",
    "m"
   ]
  },
  {
   "cell_type": "code",
   "execution_count": null,
   "metadata": {},
   "outputs": [
    {
     "data": {
      "text/html": [
       "\n",
       "            <style>\n",
       "                .geemap-dark {\n",
       "                    --jp-widgets-color: white;\n",
       "                    --jp-widgets-label-color: white;\n",
       "                    --jp-ui-font-color1: white;\n",
       "                    --jp-layout-color2: #454545;\n",
       "                    background-color: #383838;\n",
       "                }\n",
       "\n",
       "                .geemap-dark .jupyter-button {\n",
       "                    --jp-layout-color3: #383838;\n",
       "                }\n",
       "\n",
       "                .geemap-colab {\n",
       "                    background-color: var(--colab-primary-surface-color, white);\n",
       "                }\n",
       "\n",
       "                .geemap-colab .jupyter-button {\n",
       "                    --jp-layout-color3: var(--colab-primary-surface-color, white);\n",
       "                }\n",
       "            </style>\n",
       "            "
      ],
      "text/plain": [
       "<IPython.core.display.HTML object>"
      ]
     },
     "metadata": {},
     "output_type": "display_data"
    }
   ],
   "source": [
    "#add the lake as layer\n",
    "m.addLayer(lake_victoria, {}, 'Lake Victoria')"
   ]
  },
  {
   "cell_type": "code",
   "execution_count": null,
   "metadata": {},
   "outputs": [
    {
     "data": {
      "text/html": [
       "\n",
       "            <style>\n",
       "                .geemap-dark {\n",
       "                    --jp-widgets-color: white;\n",
       "                    --jp-widgets-label-color: white;\n",
       "                    --jp-ui-font-color1: white;\n",
       "                    --jp-layout-color2: #454545;\n",
       "                    background-color: #383838;\n",
       "                }\n",
       "\n",
       "                .geemap-dark .jupyter-button {\n",
       "                    --jp-layout-color3: #383838;\n",
       "                }\n",
       "\n",
       "                .geemap-colab {\n",
       "                    background-color: var(--colab-primary-surface-color, white);\n",
       "                }\n",
       "\n",
       "                .geemap-colab .jupyter-button {\n",
       "                    --jp-layout-color3: var(--colab-primary-surface-color, white);\n",
       "                }\n",
       "            </style>\n",
       "            "
      ],
      "text/plain": [
       "<IPython.core.display.HTML object>"
      ]
     },
     "metadata": {},
     "output_type": "display_data"
    }
   ],
   "source": [
    "#Acquire Sentinel-2 data\n",
    "def mask_s2_clouds(image):\n",
    "  \"\"\"Masks clouds in a Sentinel-2 image using the QA band.\n",
    "\n",
    "  Args:\n",
    "      image (ee.Image): A Sentinel-2 image.\n",
    "\n",
    "  Returns:\n",
    "      ee.Image: A cloud-masked Sentinel-2 image.\n",
    "  \"\"\"\n",
    "  qa = image.select('QA60')\n",
    "\n",
    "  # Bits 10 and 11 are clouds and cirrus, respectively.\n",
    "  cloud_bit_mask = 1 << 10\n",
    "  cirrus_bit_mask = 1 << 11\n",
    "\n",
    "  # Both flags should be set to zero, indicating clear conditions.\n",
    "  mask = (\n",
    "      qa.bitwiseAnd(cloud_bit_mask)\n",
    "      .eq(0)\n",
    "      .And(qa.bitwiseAnd(cirrus_bit_mask).eq(0))\n",
    "  )\n",
    "\n",
    "  return image.updateMask(mask).divide(10000)\n",
    "\n",
    "\n",
    "s2_dataset = (\n",
    "    ee.ImageCollection('COPERNICUS/S2_SR_HARMONIZED')\n",
    "    .filterDate('2017-03-28', '2024-11-08')\n",
    "    # Pre-filter to get less cloudy granules.\n",
    "    .filter(ee.Filter.lt('CLOUDY_PIXEL_PERCENTAGE', 5))\n",
    "    .map(mask_s2_clouds)\n",
    ")\n",
    "\n",
    "visualization = {\n",
    "    'min': 0.0,\n",
    "    'max': 0.3,\n",
    "    'bands': ['B4', 'B3', 'B2'],\n",
    "}\n",
    "m.add_layer(s2_dataset.mean().clip(lake_victoria), visualization, 'RGB')"
   ]
  },
  {
   "cell_type": "code",
   "execution_count": null,
   "metadata": {},
   "outputs": [
    {
     "data": {
      "text/html": [
       "\n",
       "            <style>\n",
       "                .geemap-dark {\n",
       "                    --jp-widgets-color: white;\n",
       "                    --jp-widgets-label-color: white;\n",
       "                    --jp-ui-font-color1: white;\n",
       "                    --jp-layout-color2: #454545;\n",
       "                    background-color: #383838;\n",
       "                }\n",
       "\n",
       "                .geemap-dark .jupyter-button {\n",
       "                    --jp-layout-color3: #383838;\n",
       "                }\n",
       "\n",
       "                .geemap-colab {\n",
       "                    background-color: var(--colab-primary-surface-color, white);\n",
       "                }\n",
       "\n",
       "                .geemap-colab .jupyter-button {\n",
       "                    --jp-layout-color3: var(--colab-primary-surface-color, white);\n",
       "                }\n",
       "            </style>\n",
       "            "
      ],
      "text/plain": [
       "<IPython.core.display.HTML object>"
      ]
     },
     "metadata": {},
     "output_type": "display_data"
    }
   ],
   "source": [
    "# Function to get the dates\n",
    "def get_dates(start_date, end_date):\n",
    "    start = datetime.strptime(start_date, '%Y-%m-%d')\n",
    "    end = datetime.strptime(end_date, '%Y-%m-%d')\n",
    "    dates = []\n",
    "    while start + timedelta(days=1) <= end:\n",
    "        dates.append([start.strftime('%Y-%m-%d'), (start + timedelta(days=1)).strftime('%Y-%m-%d')])\n",
    "        start += timedelta(days=1)\n",
    "    return dates"
   ]
  },
  {
   "cell_type": "code",
   "execution_count": null,
   "metadata": {},
   "outputs": [
    {
     "data": {
      "text/html": [
       "\n",
       "            <style>\n",
       "                .geemap-dark {\n",
       "                    --jp-widgets-color: white;\n",
       "                    --jp-widgets-label-color: white;\n",
       "                    --jp-ui-font-color1: white;\n",
       "                    --jp-layout-color2: #454545;\n",
       "                    background-color: #383838;\n",
       "                }\n",
       "\n",
       "                .geemap-dark .jupyter-button {\n",
       "                    --jp-layout-color3: #383838;\n",
       "                }\n",
       "\n",
       "                .geemap-colab {\n",
       "                    background-color: var(--colab-primary-surface-color, white);\n",
       "                }\n",
       "\n",
       "                .geemap-colab .jupyter-button {\n",
       "                    --jp-layout-color3: var(--colab-primary-surface-color, white);\n",
       "                }\n",
       "            </style>\n",
       "            "
      ],
      "text/plain": [
       "<IPython.core.display.HTML object>"
      ]
     },
     "metadata": {},
     "output_type": "display_data"
    }
   ],
   "source": [
    "def get_data(start_date, end_date, roi):\n",
    "    # Sentinel-2 dataset\n",
    "    dataset = ee.ImageCollection('COPERNICUS/S2_SR') \\\n",
    "        .filterBounds(roi) \\\n",
    "        .filterDate(start_date, end_date) \\\n",
    "        .filter(ee.Filter.lt('CLOUDY_PIXEL_PERCENTAGE', 5)) \\\n",
    "        .mean()\n",
    "\n",
    "    # Dictionary to keep track of null values\n",
    "    is_null = {\n",
    "        'ndwi': False,\n",
    "        'mndwi': False,\n",
    "        'ndci': False,\n",
    "        'ndti': False,\n",
    "        'do': False,\n",
    "        'ph': False,\n",
    "        'chl_a': False,\n",
    "        'ssc': False,\n",
    "        'wst': False,\n",
    "    }\n",
    "\n",
    "    # NDWI\n",
    "    try:\n",
    "        ndwi_bands = ['B3', 'B5']\n",
    "        ndwi = dataset.normalizedDifference(ndwi_bands).rename('ndwi')\n",
    "        latlon = ee.Image.pixelLonLat().addBands(ndwi)\n",
    "        latlon = latlon.reduceRegion(\n",
    "            reducer=ee.Reducer.toList(),\n",
    "            geometry=roi,\n",
    "            scale=8\n",
    "        )\n",
    "        data_ndwi = np.array(ee.Array(latlon.get('ndwi')).getInfo())\n",
    "    except:\n",
    "        is_null[\"ndwi\"] = True\n",
    "\n",
    "    # MNDWI\n",
    "    try:\n",
    "        band_mndwi = ['B3', 'B6']\n",
    "        mndwi = dataset.normalizedDifference(band_mndwi).rename('mndwi')\n",
    "        latlon = ee.Image.pixelLonLat().addBands(mndwi)\n",
    "        latlon = latlon.reduceRegion(\n",
    "            reducer=ee.Reducer.toList(),\n",
    "            geometry=roi,\n",
    "            scale=8\n",
    "        )\n",
    "        data_mndwi = np.array(ee.Array(latlon.get('mndwi')).getInfo())\n",
    "    except:\n",
    "        is_null[\"mndwi\"] = True\n",
    "\n",
    "    # NDCI\n",
    "    try:\n",
    "        band_ndci = ['B4', 'B3']\n",
    "        ndci = dataset.normalizedDifference(band_ndci).rename('ndci')\n",
    "        latlon = ee.Image.pixelLonLat().addBands(ndci)\n",
    "        latlon = latlon.reduceRegion(\n",
    "            reducer=ee.Reducer.toList(),\n",
    "            geometry=roi,\n",
    "            scale=8\n",
    "        )\n",
    "        data_ndci = np.array(ee.Array(latlon.get('ndci')).getInfo())\n",
    "    except:\n",
    "        is_null[\"ndci\"] = True\n",
    "\n",
    "    # DO\n",
    "    try:\n",
    "        band_do = ['B8', 'B11']\n",
    "        dissolvedoxygen = dataset.normalizedDifference(band_do).rename('do')\n",
    "        latlon = ee.Image.pixelLonLat().addBands(dissolvedoxygen)\n",
    "        latlon = latlon.reduceRegion(\n",
    "            reducer=ee.Reducer.toList(),\n",
    "            geometry=roi,  # Corrected from geometry=geometry\n",
    "            scale=8\n",
    "        )\n",
    "        data_do = np.array(ee.Array(latlon.get('do')).getInfo())\n",
    "    except:\n",
    "        is_null[\"do\"] = True\n",
    "\n",
    "    # NDTI\n",
    "    try:\n",
    "        band_ndti = ['B5', 'B11']\n",
    "        ndti = dataset.normalizedDifference(band_ndti).rename('ndti')\n",
    "        latlon = ee.Image.pixelLonLat().addBands(ndti)\n",
    "        latlon = latlon.reduceRegion(\n",
    "            reducer=ee.Reducer.toList(),\n",
    "            geometry=roi,\n",
    "            scale=8\n",
    "        )\n",
    "        data_ndti = np.array(ee.Array(latlon.get('ndti')).getInfo())\n",
    "    except:\n",
    "        is_null[\"ndti\"] = True\n",
    "\n",
    "    # pH\n",
    "    try:\n",
    "        ph = ee.Image(8.339).subtract(ee.Image(0.827).multiply(\n",
    "            dataset.select('B1').divide(dataset.select('B8')))).rename('ph')\n",
    "        latlon = ee.Image.pixelLonLat().addBands(ph)\n",
    "        latlon = latlon.reduceRegion(\n",
    "            reducer=ee.Reducer.toList(),\n",
    "            geometry=roi,\n",
    "            scale=8\n",
    "        )\n",
    "        data_ph = np.array(ee.Array(latlon.get('ph')).getInfo())\n",
    "    except:\n",
    "        is_null[\"ph\"] = True\n",
    "\n",
    "    # Chlorophyll-a\n",
    "    try:\n",
    "        Rrs_red = dataset.select('B3').divide(0.1)\n",
    "        Rrs_blue = dataset.select('B2').divide(0.1)\n",
    "        chl_a = Rrs_red.divide(Rrs_blue).pow(2.72).multiply(10.8).rename('chl_a')\n",
    "        latlon = ee.Image.pixelLonLat().addBands(chl_a)\n",
    "        latlon = latlon.reduceRegion(\n",
    "            reducer=ee.Reducer.toList(),\n",
    "            geometry=roi,\n",
    "            scale=8\n",
    "        )\n",
    "        data_chl_a = np.array(ee.Array(latlon.get('chl_a')).getInfo())\n",
    "    except:\n",
    "        is_null[\"chl_a\"] = True\n",
    "\n",
    "    # Suspended Sediment Concentration (SSC)\n",
    "    try:\n",
    "        ssc = ee.Image(0.0113).multiply(ndwi.pow(3)) \\\n",
    "            .subtract(ee.Image(0.0135).multiply(ndwi.pow(2))) \\\n",
    "            .add(ee.Image(0.0075).multiply(ndwi)) \\\n",
    "            .add(ee.Image(2.5823)).rename('ssc')\n",
    "        latlon = ee.Image.pixelLonLat().addBands(ssc)\n",
    "        latlon = latlon.reduceRegion(\n",
    "            reducer=ee.Reducer.toList(),\n",
    "            geometry=roi,\n",
    "            scale=8\n",
    "        )\n",
    "        data_ssc = np.array(ee.Array(latlon.get('ssc')).getInfo())\n",
    "    except:\n",
    "        is_null[\"ssc\"] = True\n",
    "\n",
    "    # Water Surface Temperature (WST)\n",
    "    try:\n",
    "        tir1 = dataset.select('B10')  # 10.8-11.3 µm\n",
    "        tir2 = dataset.select('B11')  # 11.5-12.5 µm\n",
    "        kelvin = tir2.divide(10).add(273.15)\n",
    "        lst = kelvin.divide(ee.Image(1).toFloat().divide(tir2.divide(14380).add(1).log()))\n",
    "        emissivity = ee.Image(0.98)\n",
    "        atm_corr = lst.multiply(0.99).add(0.11).multiply(emissivity).subtract(2.5)\n",
    "        wst = atm_corr.subtract(273.15).rename('wst')\n",
    "        latlon = ee.Image.pixelLonLat().addBands(wst)\n",
    "        latlon = latlon.reduceRegion(\n",
    "            reducer=ee.Reducer.toList(),\n",
    "            geometry=roi,\n",
    "            scale=8\n",
    "        )\n",
    "        data_wst = np.array(ee.Array(latlon.get('wst')).getInfo())\n",
    "    except:\n",
    "        is_null[\"wst\"] = True\n",
    "\n",
    "    # Adding data one by one\n",
    "    our_data = {}\n",
    "\n",
    "    if is_null[\"ndwi\"]:\n",
    "        our_data[\"ndwi\"] = None\n",
    "    else:\n",
    "        our_data[\"ndwi\"] = data_ndwi\n",
    "\n",
    "    if is_null[\"mndwi\"]:\n",
    "        our_data[\"mndwi\"] = None\n",
    "    else:\n",
    "        our_data[\"mndwi\"] = data_mndwi\n",
    "\n",
    "    if is_null[\"ndci\"]:\n",
    "        our_data[\"ndci\"] = None\n",
    "    else:\n",
    "        our_data[\"ndci\"] = data_ndci\n",
    "\n",
    "    if is_null[\"ndti\"]:\n",
    "        our_data[\"ndti\"] = None\n",
    "    else:\n",
    "        our_data[\"ndti\"] = data_ndti\n",
    "\n",
    "    if is_null[\"do\"]:\n",
    "        our_data[\"do\"] = None\n",
    "    else:\n",
    "        our_data[\"do\"] = data_do\n",
    "\n",
    "    if is_null[\"ph\"]:\n",
    "        our_data[\"ph\"] = None\n",
    "    else:\n",
    "        our_data[\"ph\"] = data_ph\n",
    "\n",
    "    if is_null[\"chl_a\"]:\n",
    "        our_data[\"chl_a\"] = None\n",
    "    else:\n",
    "        our_data[\"chl_a\"] = data_chl_a\n",
    "\n",
    "    if is_null[\"ssc\"]:\n",
    "        our_data[\"ssc\"] = None\n",
    "    else:\n",
    "        our_data[\"ssc\"] = data_ssc\n",
    "\n",
    "    if is_null[\"wst\"]:\n",
    "        our_data[\"wst\"] = None\n",
    "    else:\n",
    "        our_data[\"wst\"] = data_wst\n",
    "\n",
    "    dataframe = pd.DataFrame(our_data)\n",
    "\n",
    "    return dataframe"
   ]
  },
  {
   "cell_type": "code",
   "execution_count": null,
   "metadata": {},
   "outputs": [
    {
     "data": {
      "text/html": [
       "\n",
       "            <style>\n",
       "                .geemap-dark {\n",
       "                    --jp-widgets-color: white;\n",
       "                    --jp-widgets-label-color: white;\n",
       "                    --jp-ui-font-color1: white;\n",
       "                    --jp-layout-color2: #454545;\n",
       "                    background-color: #383838;\n",
       "                }\n",
       "\n",
       "                .geemap-dark .jupyter-button {\n",
       "                    --jp-layout-color3: #383838;\n",
       "                }\n",
       "\n",
       "                .geemap-colab {\n",
       "                    background-color: var(--colab-primary-surface-color, white);\n",
       "                }\n",
       "\n",
       "                .geemap-colab .jupyter-button {\n",
       "                    --jp-layout-color3: var(--colab-primary-surface-color, white);\n",
       "                }\n",
       "            </style>\n",
       "            "
      ],
      "text/plain": [
       "<IPython.core.display.HTML object>"
      ]
     },
     "metadata": {},
     "output_type": "display_data"
    }
   ],
   "source": [
    "def get_dataframe(start_date, end_date, polygon):\n",
    "    df_data = pd.DataFrame()\n",
    "    df_data[\"ndwi\"] = []\n",
    "    df_data[\"mndwi\"] = []\n",
    "    df_data[\"ndci\"] = []\n",
    "    df_data[\"ndti\"] = []\n",
    "    df_data[\"do\"] = []\n",
    "    df_data[\"ph\"] = []\n",
    "    df_data[\"chl_a\"] = []\n",
    "    df_data[\"ssc\"] = []\n",
    "    df_data[\"wst\"] = []\n",
    "    df_data[\"date\"] = []\n",
    "\n",
    "    dates = get_dates(start_date, end_date)\n",
    "\n",
    "    for date in dates:\n",
    "        try:\n",
    "            df = get_data(date[0], date[1], polygon)\n",
    "            means = {}\n",
    "            for column in df.columns:\n",
    "                try:\n",
    "                    means[column] = [df[column].mean()]\n",
    "                except:\n",
    "                    means[column] = None\n",
    "            means[\"date\"] = [date[0]]\n",
    "            mean_data = pd.DataFrame(means)\n",
    "            df_data = pd.concat([df_data, mean_data])\n",
    "        except:\n",
    "            mean_data = {}\n",
    "            mean_data[\"date\"] = date[0]\n",
    "            mean_data[\"ndwi\"] = [None]\n",
    "            mean_data[\"mndwi\"] = [None]\n",
    "            mean_data[\"ndci\"] = [None]\n",
    "            mean_data[\"ndti\"] = [None]\n",
    "            mean_data[\"do\"] = [None]\n",
    "            mean_data[\"ph\"] = [None]\n",
    "            mean_data[\"chl_a\"] = [None]\n",
    "            mean_data[\"ssc\"] = [None]\n",
    "            mean_data[\"wst\"] = [None]\n",
    "            final_mean = pd.DataFrame(mean_data)\n",
    "            \n",
    "            df_data = pd.concat([df_data, final_mean])\n",
    "    \n",
    "    return df_data"
   ]
  },
  {
   "cell_type": "code",
   "execution_count": null,
   "metadata": {},
   "outputs": [
    {
     "data": {
      "text/html": [
       "\n",
       "            <style>\n",
       "                .geemap-dark {\n",
       "                    --jp-widgets-color: white;\n",
       "                    --jp-widgets-label-color: white;\n",
       "                    --jp-ui-font-color1: white;\n",
       "                    --jp-layout-color2: #454545;\n",
       "                    background-color: #383838;\n",
       "                }\n",
       "\n",
       "                .geemap-dark .jupyter-button {\n",
       "                    --jp-layout-color3: #383838;\n",
       "                }\n",
       "\n",
       "                .geemap-colab {\n",
       "                    background-color: var(--colab-primary-surface-color, white);\n",
       "                }\n",
       "\n",
       "                .geemap-colab .jupyter-button {\n",
       "                    --jp-layout-color3: var(--colab-primary-surface-color, white);\n",
       "                }\n",
       "            </style>\n",
       "            "
      ],
      "text/plain": [
       "<IPython.core.display.HTML object>"
      ]
     },
     "metadata": {},
     "output_type": "display_data"
    }
   ],
   "source": [
    "#get the ee.geometry\n",
    "geometry = lake_victoria.geometry()"
   ]
  },
  {
   "cell_type": "code",
   "execution_count": null,
   "metadata": {},
   "outputs": [
    {
     "data": {
      "text/html": [
       "\n",
       "            <style>\n",
       "                .geemap-dark {\n",
       "                    --jp-widgets-color: white;\n",
       "                    --jp-widgets-label-color: white;\n",
       "                    --jp-ui-font-color1: white;\n",
       "                    --jp-layout-color2: #454545;\n",
       "                    background-color: #383838;\n",
       "                }\n",
       "\n",
       "                .geemap-dark .jupyter-button {\n",
       "                    --jp-layout-color3: #383838;\n",
       "                }\n",
       "\n",
       "                .geemap-colab {\n",
       "                    background-color: var(--colab-primary-surface-color, white);\n",
       "                }\n",
       "\n",
       "                .geemap-colab .jupyter-button {\n",
       "                    --jp-layout-color3: var(--colab-primary-surface-color, white);\n",
       "                }\n",
       "            </style>\n",
       "            "
      ],
      "text/plain": [
       "<IPython.core.display.HTML object>"
      ]
     },
     "metadata": {},
     "output_type": "display_data"
    }
   ],
   "source": [
    "#Define our periods\n",
    "start = '2017-03-28'\n",
    "end = '2024-11-08'"
   ]
  },
  {
   "cell_type": "code",
   "execution_count": null,
   "metadata": {},
   "outputs": [
    {
     "data": {
      "text/html": [
       "\n",
       "            <style>\n",
       "                .geemap-dark {\n",
       "                    --jp-widgets-color: white;\n",
       "                    --jp-widgets-label-color: white;\n",
       "                    --jp-ui-font-color1: white;\n",
       "                    --jp-layout-color2: #454545;\n",
       "                    background-color: #383838;\n",
       "                }\n",
       "\n",
       "                .geemap-dark .jupyter-button {\n",
       "                    --jp-layout-color3: #383838;\n",
       "                }\n",
       "\n",
       "                .geemap-colab {\n",
       "                    background-color: var(--colab-primary-surface-color, white);\n",
       "                }\n",
       "\n",
       "                .geemap-colab .jupyter-button {\n",
       "                    --jp-layout-color3: var(--colab-primary-surface-color, white);\n",
       "                }\n",
       "            </style>\n",
       "            "
      ],
      "text/plain": [
       "<IPython.core.display.HTML object>"
      ]
     },
     "metadata": {},
     "output_type": "display_data"
    }
   ],
   "source": [
    "final_data = get_dataframe(start, end, geometry)"
   ]
  },
  {
   "cell_type": "code",
   "execution_count": null,
   "metadata": {},
   "outputs": [],
   "source": []
  }
 ],
 "metadata": {
  "kernelspec": {
   "display_name": "Python 3",
   "language": "python",
   "name": "python3"
  },
  "language_info": {
   "codemirror_mode": {
    "name": "ipython",
    "version": 3
   },
   "file_extension": ".py",
   "mimetype": "text/x-python",
   "name": "python",
   "nbconvert_exporter": "python",
   "pygments_lexer": "ipython3",
   "version": "3.13.0"
  }
 },
 "nbformat": 4,
 "nbformat_minor": 2
}
