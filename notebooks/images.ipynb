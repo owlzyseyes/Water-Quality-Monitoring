{
 "cells": [
  {
   "cell_type": "code",
   "execution_count": 4,
   "metadata": {},
   "outputs": [
    {
     "data": {
      "text/html": [
       "\n",
       "            <style>\n",
       "                .geemap-dark {\n",
       "                    --jp-widgets-color: white;\n",
       "                    --jp-widgets-label-color: white;\n",
       "                    --jp-ui-font-color1: white;\n",
       "                    --jp-layout-color2: #454545;\n",
       "                    background-color: #383838;\n",
       "                }\n",
       "\n",
       "                .geemap-dark .jupyter-button {\n",
       "                    --jp-layout-color3: #383838;\n",
       "                }\n",
       "\n",
       "                .geemap-colab {\n",
       "                    background-color: var(--colab-primary-surface-color, white);\n",
       "                }\n",
       "\n",
       "                .geemap-colab .jupyter-button {\n",
       "                    --jp-layout-color3: var(--colab-primary-surface-color, white);\n",
       "                }\n",
       "            </style>\n",
       "            "
      ],
      "text/plain": [
       "<IPython.core.display.HTML object>"
      ]
     },
     "metadata": {},
     "output_type": "display_data"
    }
   ],
   "source": [
    "import geemap\n",
    "import ee\n",
    "import geopandas as gpd\n",
    "import pandas as pd"
   ]
  },
  {
   "cell_type": "code",
   "execution_count": 5,
   "metadata": {},
   "outputs": [
    {
     "data": {
      "text/html": [
       "\n",
       "            <style>\n",
       "                .geemap-dark {\n",
       "                    --jp-widgets-color: white;\n",
       "                    --jp-widgets-label-color: white;\n",
       "                    --jp-ui-font-color1: white;\n",
       "                    --jp-layout-color2: #454545;\n",
       "                    background-color: #383838;\n",
       "                }\n",
       "\n",
       "                .geemap-dark .jupyter-button {\n",
       "                    --jp-layout-color3: #383838;\n",
       "                }\n",
       "\n",
       "                .geemap-colab {\n",
       "                    background-color: var(--colab-primary-surface-color, white);\n",
       "                }\n",
       "\n",
       "                .geemap-colab .jupyter-button {\n",
       "                    --jp-layout-color3: var(--colab-primary-surface-color, white);\n",
       "                }\n",
       "            </style>\n",
       "            "
      ],
      "text/plain": [
       "<IPython.core.display.HTML object>"
      ]
     },
     "metadata": {},
     "output_type": "display_data"
    }
   ],
   "source": [
    "ee.Initialize()"
   ]
  },
  {
   "cell_type": "code",
   "execution_count": 10,
   "metadata": {},
   "outputs": [
    {
     "data": {
      "text/html": [
       "\n",
       "            <style>\n",
       "                .geemap-dark {\n",
       "                    --jp-widgets-color: white;\n",
       "                    --jp-widgets-label-color: white;\n",
       "                    --jp-ui-font-color1: white;\n",
       "                    --jp-layout-color2: #454545;\n",
       "                    background-color: #383838;\n",
       "                }\n",
       "\n",
       "                .geemap-dark .jupyter-button {\n",
       "                    --jp-layout-color3: #383838;\n",
       "                }\n",
       "\n",
       "                .geemap-colab {\n",
       "                    background-color: var(--colab-primary-surface-color, white);\n",
       "                }\n",
       "\n",
       "                .geemap-colab .jupyter-button {\n",
       "                    --jp-layout-color3: var(--colab-primary-surface-color, white);\n",
       "                }\n",
       "            </style>\n",
       "            "
      ],
      "text/plain": [
       "<IPython.core.display.HTML object>"
      ]
     },
     "metadata": {},
     "output_type": "display_data"
    }
   ],
   "source": [
    "#Load the Lake Victoria shapefile Asset\n",
    "lake = \"projects/water-quality-441207/assets/lake_victoria\"\n",
    "lake = ee.FeatureCollection(lake)"
   ]
  },
  {
   "cell_type": "code",
   "execution_count": 7,
   "metadata": {},
   "outputs": [
    {
     "data": {
      "text/html": [
       "\n",
       "            <style>\n",
       "                .geemap-dark {\n",
       "                    --jp-widgets-color: white;\n",
       "                    --jp-widgets-label-color: white;\n",
       "                    --jp-ui-font-color1: white;\n",
       "                    --jp-layout-color2: #454545;\n",
       "                    background-color: #383838;\n",
       "                }\n",
       "\n",
       "                .geemap-dark .jupyter-button {\n",
       "                    --jp-layout-color3: #383838;\n",
       "                }\n",
       "\n",
       "                .geemap-colab {\n",
       "                    background-color: var(--colab-primary-surface-color, white);\n",
       "                }\n",
       "\n",
       "                .geemap-colab .jupyter-button {\n",
       "                    --jp-layout-color3: var(--colab-primary-surface-color, white);\n",
       "                }\n",
       "            </style>\n",
       "            "
      ],
      "text/plain": [
       "<IPython.core.display.HTML object>"
      ]
     },
     "metadata": {},
     "output_type": "display_data"
    },
    {
     "data": {
      "application/vnd.jupyter.widget-view+json": {
       "model_id": "518625982bf94f81a326e3a901064760",
       "version_major": 2,
       "version_minor": 0
      },
      "text/plain": [
       "Map(center=[0, 0], controls=(WidgetControl(options=['position', 'transparent_bg'], widget=SearchDataGUI(childr…"
      ]
     },
     "execution_count": 7,
     "metadata": {},
     "output_type": "execute_result"
    },
    {
     "data": {
      "application/javascript": "\n        var code = IPython.notebook.insert_cell_below('code');\n        code.set_text(atob(\"ZGF0YXNldCA9IGVlLkltYWdlQ29sbGVjdGlvbignTU9ESVMvMDYxL01ZRDA5R0EnKSBcCi5maWx0ZXIoZWUuRmlsdGVyLmRhdGUoJzIwMTgtMDQtMDEnLCAnMjAxOC0wNi0wMScpKQpUcnVlQ29sb3IxNDMgPSBcCmRhdGFzZXQuc2VsZWN0KFsnc3VyX3JlZmxfYjAxJywgJ3N1cl9yZWZsX2IwNCcsICdzdXJfcmVmbF9iMDMnXSkKVHJ1ZUNvbG9yMTQzVmlzID0gewogICAgIm1pbiI6IC0xMDAuMCwKICAgICJtYXgiOiA4MDAwLjAsCn0KTWFwLnNldENlbnRlcigtNy4wMzEyNSwgMzEuMDUyOTMzOTg1NywgMikKTWFwLmFkZExheWVyKFRydWVDb2xvcjE0MywgVHJ1ZUNvbG9yMTQzVmlzLCAnVHJ1ZSBDb2xvciAoMTQzKScpCg==\"));\n    ",
      "text/plain": [
       "<IPython.core.display.Javascript object>"
      ]
     },
     "metadata": {},
     "output_type": "display_data"
    }
   ],
   "source": [
    "m = geemap.Map()\n",
    "m"
   ]
  },
  {
   "cell_type": "code",
   "execution_count": 11,
   "metadata": {},
   "outputs": [
    {
     "data": {
      "text/html": [
       "\n",
       "            <style>\n",
       "                .geemap-dark {\n",
       "                    --jp-widgets-color: white;\n",
       "                    --jp-widgets-label-color: white;\n",
       "                    --jp-ui-font-color1: white;\n",
       "                    --jp-layout-color2: #454545;\n",
       "                    background-color: #383838;\n",
       "                }\n",
       "\n",
       "                .geemap-dark .jupyter-button {\n",
       "                    --jp-layout-color3: #383838;\n",
       "                }\n",
       "\n",
       "                .geemap-colab {\n",
       "                    background-color: var(--colab-primary-surface-color, white);\n",
       "                }\n",
       "\n",
       "                .geemap-colab .jupyter-button {\n",
       "                    --jp-layout-color3: var(--colab-primary-surface-color, white);\n",
       "                }\n",
       "            </style>\n",
       "            "
      ],
      "text/plain": [
       "<IPython.core.display.HTML object>"
      ]
     },
     "metadata": {},
     "output_type": "display_data"
    }
   ],
   "source": [
    "dataset = ee.ImageCollection('MODIS/061/MYD09GA') \\\n",
    ".filter(ee.Filter.date('2018-04-01', '2018-06-01')).mean()\n",
    "TrueColor143 = \\\n",
    "dataset.select(['sur_refl_b01', 'sur_refl_b04', 'sur_refl_b03'])\n",
    "TrueColor143Vis = {\n",
    "    \"min\": -100.0,\n",
    "    \"max\": 8000.0,\n",
    "}\n",
    "m.setCenter(-7.03125, 31.0529339857, 2)\n",
    "m.addLayer(TrueColor143.clip(lake), TrueColor143Vis, 'True Color (143)')"
   ]
  },
  {
   "cell_type": "code",
   "execution_count": 24,
   "metadata": {},
   "outputs": [
    {
     "data": {
      "text/html": [
       "\n",
       "            <style>\n",
       "                .geemap-dark {\n",
       "                    --jp-widgets-color: white;\n",
       "                    --jp-widgets-label-color: white;\n",
       "                    --jp-ui-font-color1: white;\n",
       "                    --jp-layout-color2: #454545;\n",
       "                    background-color: #383838;\n",
       "                }\n",
       "\n",
       "                .geemap-dark .jupyter-button {\n",
       "                    --jp-layout-color3: #383838;\n",
       "                }\n",
       "\n",
       "                .geemap-colab {\n",
       "                    background-color: var(--colab-primary-surface-color, white);\n",
       "                }\n",
       "\n",
       "                .geemap-colab .jupyter-button {\n",
       "                    --jp-layout-color3: var(--colab-primary-surface-color, white);\n",
       "                }\n",
       "            </style>\n",
       "            "
      ],
      "text/plain": [
       "<IPython.core.display.HTML object>"
      ]
     },
     "metadata": {},
     "output_type": "display_data"
    }
   ],
   "source": [
    "# Add as layer\n",
    "m.addLayer(lake, {}, 'Lake Victoria')"
   ]
  },
  {
   "cell_type": "code",
   "execution_count": null,
   "metadata": {},
   "outputs": [
    {
     "data": {
      "text/html": [
       "\n",
       "            <style>\n",
       "                .geemap-dark {\n",
       "                    --jp-widgets-color: white;\n",
       "                    --jp-widgets-label-color: white;\n",
       "                    --jp-ui-font-color1: white;\n",
       "                    --jp-layout-color2: #454545;\n",
       "                    background-color: #383838;\n",
       "                }\n",
       "\n",
       "                .geemap-dark .jupyter-button {\n",
       "                    --jp-layout-color3: #383838;\n",
       "                }\n",
       "\n",
       "                .geemap-colab {\n",
       "                    background-color: var(--colab-primary-surface-color, white);\n",
       "                }\n",
       "\n",
       "                .geemap-colab .jupyter-button {\n",
       "                    --jp-layout-color3: var(--colab-primary-surface-color, white);\n",
       "                }\n",
       "            </style>\n",
       "            "
      ],
      "text/plain": [
       "<IPython.core.display.HTML object>"
      ]
     },
     "metadata": {},
     "output_type": "display_data"
    }
   ],
   "source": [
    "def mask_s2_clouds(image):\n",
    "  \"\"\"Masks clouds in a Sentinel-2 image using the QA band.\n",
    "\n",
    "  Args:\n",
    "      image (ee.Image): A Sentinel-2 image.\n",
    "\n",
    "  Returns:\n",
    "      ee.Image: A cloud-masked Sentinel-2 image.\n",
    "  \"\"\"\n",
    "  qa = image.select('QA60')\n",
    "\n",
    "  # Bits 10 and 11 are clouds and cirrus, respectively.\n",
    "  cloud_bit_mask = 1 << 10\n",
    "  cirrus_bit_mask = 1 << 11\n",
    "\n",
    "  # Both flags should be set to zero, indicating clear conditions.\n",
    "  mask = (\n",
    "      qa.bitwiseAnd(cloud_bit_mask)\n",
    "      .eq(0)\n",
    "      .And(qa.bitwiseAnd(cirrus_bit_mask).eq(0))\n",
    "  )\n",
    "\n",
    "  return image.updateMask(mask).divide(10000)\n",
    "\n",
    "\n",
    "dataset = (\n",
    "    ee.ImageCollection('COPERNICUS/S2_SR_HARMONIZED')\n",
    "    .filterDate('2020-01-01', '2024-11-08')\n",
    "    # Pre-filter to get less cloudy granules.\n",
    "    .filter(ee.Filter.lt('CLOUDY_PIXEL_PERCENTAGE', 20))\n",
    "    .map(mask_s2_clouds).median()\n",
    ")\n",
    "\n",
    "visualization = {\n",
    "    'min': 0.0,\n",
    "    'max': 0.3,\n",
    "    'bands': ['B4', 'B3', 'B2'],\n",
    "}\n",
    "\n",
    "m.add_layer(dataset.clip(lake), visualization, 'RGB')"
   ]
  },
  {
   "cell_type": "code",
   "execution_count": 27,
   "metadata": {
    "vscode": {
     "languageId": "ruby"
    }
   },
   "outputs": [
    {
     "data": {
      "text/html": [
       "\n",
       "            <style>\n",
       "                .geemap-dark {\n",
       "                    --jp-widgets-color: white;\n",
       "                    --jp-widgets-label-color: white;\n",
       "                    --jp-ui-font-color1: white;\n",
       "                    --jp-layout-color2: #454545;\n",
       "                    background-color: #383838;\n",
       "                }\n",
       "\n",
       "                .geemap-dark .jupyter-button {\n",
       "                    --jp-layout-color3: #383838;\n",
       "                }\n",
       "\n",
       "                .geemap-colab {\n",
       "                    background-color: var(--colab-primary-surface-color, white);\n",
       "                }\n",
       "\n",
       "                .geemap-colab .jupyter-button {\n",
       "                    --jp-layout-color3: var(--colab-primary-surface-color, white);\n",
       "                }\n",
       "            </style>\n",
       "            "
      ],
      "text/plain": [
       "<IPython.core.display.HTML object>"
      ]
     },
     "metadata": {},
     "output_type": "display_data"
    }
   ],
   "source": [
    "# Calculate NDWI\n",
    "ndwi_bands = ['B3', 'B5']\n",
    "ndwi = dataset.normalizedDifference(ndwi_bands).rename('ndwi')\n",
    "\n",
    "# Add NDWI band to the dataset\n",
    "dataset = dataset.addBands(ndwi)\n",
    "\n",
    "# Define visualization parameters for NDWI\n",
    "ndwi_visualization = {\n",
    "    'min': -1,\n",
    "    'max': 1,\n",
    "    'palette': [\n",
    "        '0000FF',  # Blue\n",
    "        '00FFFF',  # Cyan\n",
    "        '00FF00',  # Green\n",
    "        'FFFF00',  # Yellow\n",
    "        'FFA500',  # Orange\n",
    "        'FF0000'   # Red\n",
    "    ]\n",
    "}\n",
    "\n",
    "# Add NDWI layer to the map\n",
    "m.addLayer(dataset.select('ndwi').clip(lake), ndwi_visualization, 'NDWI')"
   ]
  },
  {
   "cell_type": "code",
   "execution_count": 28,
   "metadata": {
    "vscode": {
     "languageId": "ruby"
    }
   },
   "outputs": [
    {
     "data": {
      "text/html": [
       "\n",
       "            <style>\n",
       "                .geemap-dark {\n",
       "                    --jp-widgets-color: white;\n",
       "                    --jp-widgets-label-color: white;\n",
       "                    --jp-ui-font-color1: white;\n",
       "                    --jp-layout-color2: #454545;\n",
       "                    background-color: #383838;\n",
       "                }\n",
       "\n",
       "                .geemap-dark .jupyter-button {\n",
       "                    --jp-layout-color3: #383838;\n",
       "                }\n",
       "\n",
       "                .geemap-colab {\n",
       "                    background-color: var(--colab-primary-surface-color, white);\n",
       "                }\n",
       "\n",
       "                .geemap-colab .jupyter-button {\n",
       "                    --jp-layout-color3: var(--colab-primary-surface-color, white);\n",
       "                }\n",
       "            </style>\n",
       "            "
      ],
      "text/plain": [
       "<IPython.core.display.HTML object>"
      ]
     },
     "metadata": {},
     "output_type": "display_data"
    }
   ],
   "source": [
    "# Calculate NDCI\n",
    "band_ndci = ['B4', 'B3']\n",
    "ndci = dataset.normalizedDifference(band_ndci).rename('ndci')\n",
    "\n",
    "\n",
    "# Add NDCI and latlon bands to the dataset\n",
    "dataset = dataset.addBands(ndci)\n",
    "\n",
    "# Define visualization parameters for NDCI\n",
    "ndci_visualization = {\n",
    "    'min': -1,\n",
    "    'max': 1,\n",
    "    'palette': [\n",
    "        '0000FF',  # Blue\n",
    "        '00FFFF',  # Cyan\n",
    "        '00FF00',  # Green\n",
    "        'FFFF00',  # Yellow\n",
    "        'FFA500',  # Orange\n",
    "        'FF0000'   # Red\n",
    "    ]\n",
    "}\n",
    "\n",
    "# Add NDCI layer to the map\n",
    "m.addLayer(dataset.select('ndci').clip(lake), ndci_visualization, 'NDCI')"
   ]
  },
  {
   "cell_type": "code",
   "execution_count": 29,
   "metadata": {
    "vscode": {
     "languageId": "ruby"
    }
   },
   "outputs": [
    {
     "data": {
      "text/html": [
       "\n",
       "            <style>\n",
       "                .geemap-dark {\n",
       "                    --jp-widgets-color: white;\n",
       "                    --jp-widgets-label-color: white;\n",
       "                    --jp-ui-font-color1: white;\n",
       "                    --jp-layout-color2: #454545;\n",
       "                    background-color: #383838;\n",
       "                }\n",
       "\n",
       "                .geemap-dark .jupyter-button {\n",
       "                    --jp-layout-color3: #383838;\n",
       "                }\n",
       "\n",
       "                .geemap-colab {\n",
       "                    background-color: var(--colab-primary-surface-color, white);\n",
       "                }\n",
       "\n",
       "                .geemap-colab .jupyter-button {\n",
       "                    --jp-layout-color3: var(--colab-primary-surface-color, white);\n",
       "                }\n",
       "            </style>\n",
       "            "
      ],
      "text/plain": [
       "<IPython.core.display.HTML object>"
      ]
     },
     "metadata": {},
     "output_type": "display_data"
    }
   ],
   "source": [
    "band_ndti = ['B5', 'B11']\n",
    "ndti = dataset.normalizedDifference(band_ndti).rename('ndti')\n",
    "\n",
    "# Add NDVI band to the dataset\n",
    "dataset = dataset.addBands(ndti)\n",
    "\n",
    "# Define visualization parameters for NDTI\n",
    "ndti_visualization = {\n",
    "    'min': -1,\n",
    "    'max': 1,\n",
    "    'palette': [\n",
    "        '0000FF',  # Blue\n",
    "        '00FFFF',  # Cyan\n",
    "        '00FF00',  # Green\n",
    "        'FFFF00',  # Yellow\n",
    "        'FFA500',  # Orange\n",
    "        'FF0000'   # Red\n",
    "    ]\n",
    "}\n",
    "\n",
    "# Add NDVI layer to the map\n",
    "m.addLayer(dataset.select('ndti').clip(lake), ndti_visualization, 'NDTI')"
   ]
  },
  {
   "cell_type": "code",
   "execution_count": 35,
   "metadata": {},
   "outputs": [
    {
     "data": {
      "text/html": [
       "\n",
       "            <style>\n",
       "                .geemap-dark {\n",
       "                    --jp-widgets-color: white;\n",
       "                    --jp-widgets-label-color: white;\n",
       "                    --jp-ui-font-color1: white;\n",
       "                    --jp-layout-color2: #454545;\n",
       "                    background-color: #383838;\n",
       "                }\n",
       "\n",
       "                .geemap-dark .jupyter-button {\n",
       "                    --jp-layout-color3: #383838;\n",
       "                }\n",
       "\n",
       "                .geemap-colab {\n",
       "                    background-color: var(--colab-primary-surface-color, white);\n",
       "                }\n",
       "\n",
       "                .geemap-colab .jupyter-button {\n",
       "                    --jp-layout-color3: var(--colab-primary-surface-color, white);\n",
       "                }\n",
       "            </style>\n",
       "            "
      ],
      "text/plain": [
       "<IPython.core.display.HTML object>"
      ]
     },
     "metadata": {},
     "output_type": "display_data"
    },
    {
     "name": "stdout",
     "output_type": "stream",
     "text": [
      "Computing statistics ...\n",
      "Generating URL ...\n",
      "Downloading data from https://earthengine.googleapis.com/v1/projects/1037213099185/tables/b173beedf69d8c6d28ddbb45603cd5c9-c19e50314ef10cd2108a700f3bd4e7af:getFeatures\n",
      "Please wait ...\n",
      "Data downloaded to /workspaces/Water-Quality-Monitoring/notebooks/ndti.csv\n"
     ]
    }
   ],
   "source": [
    "ndti_dataset = dataset.select('ndti')\n",
    "out_ndti_stats = \"ndti.csv\" \n",
    "\n",
    "geemap.zonal_stats(\n",
    "    ndti_dataset,\n",
    "    lake,\n",
    "    out_ndti_stats,\n",
    "    stat_type=\"MEAN\",\n",
    "    scale= 1000,\n",
    "    return_fc=False\n",
    ")"
   ]
  },
  {
   "cell_type": "code",
   "execution_count": 37,
   "metadata": {
    "vscode": {
     "languageId": "ruby"
    }
   },
   "outputs": [
    {
     "data": {
      "text/html": [
       "\n",
       "            <style>\n",
       "                .geemap-dark {\n",
       "                    --jp-widgets-color: white;\n",
       "                    --jp-widgets-label-color: white;\n",
       "                    --jp-ui-font-color1: white;\n",
       "                    --jp-layout-color2: #454545;\n",
       "                    background-color: #383838;\n",
       "                }\n",
       "\n",
       "                .geemap-dark .jupyter-button {\n",
       "                    --jp-layout-color3: #383838;\n",
       "                }\n",
       "\n",
       "                .geemap-colab {\n",
       "                    background-color: var(--colab-primary-surface-color, white);\n",
       "                }\n",
       "\n",
       "                .geemap-colab .jupyter-button {\n",
       "                    --jp-layout-color3: var(--colab-primary-surface-color, white);\n",
       "                }\n",
       "            </style>\n",
       "            "
      ],
      "text/plain": [
       "<IPython.core.display.HTML object>"
      ]
     },
     "metadata": {},
     "output_type": "display_data"
    }
   ],
   "source": [
    "# Calculate pH\n",
    "ph = ee.Image(8.339).subtract(ee.Image(0.827).multiply(\n",
    "            dataset.select('B1').divide(dataset.select('B8')))).rename('ph')\n",
    "\n",
    "# Add pH band to the dataset\n",
    "dataset = dataset.addBands(ph)\n",
    "\n",
    "# Define visualization parameters for pH\n",
    "ph_visualization = {\n",
    "    'min': 5,\n",
    "    'max': 9,\n",
    "    'palette': [\n",
    "        'FF0000',  # Red\n",
    "        'FFA500',  # Orange\n",
    "        'FFFF00',  # Yellow\n",
    "        '00FF00',  # Green\n",
    "        '00FFFF',  # Cyan\n",
    "        '0000FF'   # Blue\n",
    "    ]\n",
    "}\n",
    "\n",
    "# Add pH layer to the map\n",
    "m.addLayer(dataset.select('ph').clip(lake), ph_visualization, 'pH')"
   ]
  },
  {
   "cell_type": "code",
   "execution_count": null,
   "metadata": {},
   "outputs": [
    {
     "data": {
      "text/html": [
       "\n",
       "            <style>\n",
       "                .geemap-dark {\n",
       "                    --jp-widgets-color: white;\n",
       "                    --jp-widgets-label-color: white;\n",
       "                    --jp-ui-font-color1: white;\n",
       "                    --jp-layout-color2: #454545;\n",
       "                    background-color: #383838;\n",
       "                }\n",
       "\n",
       "                .geemap-dark .jupyter-button {\n",
       "                    --jp-layout-color3: #383838;\n",
       "                }\n",
       "\n",
       "                .geemap-colab {\n",
       "                    background-color: var(--colab-primary-surface-color, white);\n",
       "                }\n",
       "\n",
       "                .geemap-colab .jupyter-button {\n",
       "                    --jp-layout-color3: var(--colab-primary-surface-color, white);\n",
       "                }\n",
       "            </style>\n",
       "            "
      ],
      "text/plain": [
       "<IPython.core.display.HTML object>"
      ]
     },
     "metadata": {},
     "output_type": "display_data"
    }
   ],
   "source": [
    "# Calculate chlorophyll-a (chl_a)\n",
    "Rrs_red = dataset.select('B3').divide(0.1)\n",
    "Rrs_blue = dataset.select('B2').divide(0.1)\n",
    "chl_a = Rrs_red.divide(Rrs_blue).pow(2.72).multiply(10.8).rename('chl_a')\n",
    "\n",
    "# Add chl_a band to the dataset\n",
    "dataset = dataset.addBands(chl_a)\n",
    "\n",
    "# Define visualization parameters for chl_a\n",
    "chl_a_visualization = {\n",
    "    'min': 0,\n",
    "    'max': 50,\n",
    "    'palette': [\n",
    "        '0000FF',  # Blue\n",
    "        '00FFFF',  # Cyan\n",
    "        '00FF00',  # Green\n",
    "        'FFFF00',  # Yellow\n",
    "        'FFA500',  # Orange\n",
    "        'FF0000'   # Red\n",
    "    ]\n",
    "}\n",
    "\n",
    "# Add chl_a layer to the map\n",
    "m.addLayer(dataset.select('chl_a').clip(lake), chl_a_visualization, 'Chlorophyll-a')"
   ]
  },
  {
   "cell_type": "code",
   "execution_count": null,
   "metadata": {
    "vscode": {
     "languageId": "ruby"
    }
   },
   "outputs": [
    {
     "data": {
      "text/html": [
       "\n",
       "            <style>\n",
       "                .geemap-dark {\n",
       "                    --jp-widgets-color: white;\n",
       "                    --jp-widgets-label-color: white;\n",
       "                    --jp-ui-font-color1: white;\n",
       "                    --jp-layout-color2: #454545;\n",
       "                    background-color: #383838;\n",
       "                }\n",
       "\n",
       "                .geemap-dark .jupyter-button {\n",
       "                    --jp-layout-color3: #383838;\n",
       "                }\n",
       "\n",
       "                .geemap-colab {\n",
       "                    background-color: var(--colab-primary-surface-color, white);\n",
       "                }\n",
       "\n",
       "                .geemap-colab .jupyter-button {\n",
       "                    --jp-layout-color3: var(--colab-primary-surface-color, white);\n",
       "                }\n",
       "            </style>\n",
       "            "
      ],
      "text/plain": [
       "<IPython.core.display.HTML object>"
      ]
     },
     "metadata": {},
     "output_type": "display_data"
    }
   ],
   "source": [
    "# Calculate SSC\n",
    "ssc = ee.Image(0.0113).multiply(dataset.select('ndwi').pow(3)) \\\n",
    "            .subtract(ee.Image(0.0135).multiply(dataset.select('ndwi').pow(2))) \\\n",
    "            .add(ee.Image(0.0075).multiply(dataset.select('ndwi'))) \\\n",
    "            .add(ee.Image(2.5823)).rename('ssc')\n",
    "\n",
    "# Add SSC band to the dataset\n",
    "dataset = dataset.addBands(ssc)\n",
    "\n",
    "# Define visualization parameters for SSC\n",
    "vis_params = {'bands': ['ssc'], 'palette': ['#67001f', '#6a011f', '#6d0220', '#700320', '#730421', '#760521', '#790622', '#7c0722', '#7f0823', '#810823', '#840924', '#870a24', '#8a0b25', '#8d0c25', '#900d26', '#930e26', '#960f27', '#991027', '#9c1127', '#9f1228', '#a21328', '#a51429', '#a81529', '#ab162a', '#ae172a', '#b1182b', '#b3192c', '#b41c2d', '#b61f2e', '#b72230', '#b82531', '#ba2832', '#bb2a34', '#bd2d35', '#be3036', '#bf3338', '#c13639', '#c2383a', '#c43b3c', '#c53e3d', '#c6413e', '#c84440', '#c94741', '#cb4942', '#cc4c44', '#ce4f45', '#cf5246', '#d05548', '#d25849', '#d35a4a', '#d55d4c', '#d6604d', '#d7634f', '#d86551', '#da6853', '#db6b55', '#dc6e57', '#dd7059', '#de735c', '#df765e', '#e17860', '#e27b62', '#e37e64', '#e48066', '#e58368', '#e6866a', '#e8896c', '#e98b6e', '#ea8e70', '#eb9172', '#ec9374', '#ee9677', '#ef9979', '#f09c7b', '#f19e7d', '#f2a17f', '#f3a481', '#f4a683', '#f5a886', '#f5aa89', '#f5ac8b', '#f6af8e', '#f6b191', '#f6b394', '#f7b596', '#f7b799', '#f7b99c', '#f8bb9e', '#f8bda1', '#f8bfa4', '#f9c2a7', '#f9c4a9', '#f9c6ac', '#fac8af', '#facab1', '#fbccb4', '#fbceb7', '#fbd0b9', '#fcd3bc', '#fcd5bf', '#fcd7c2', '#fdd9c4', '#fddbc7', '#fddcc9', '#fdddcb', '#fcdecd', '#fcdfcf', '#fce0d0', '#fce2d2', '#fbe3d4', '#fbe4d6', '#fbe5d8', '#fbe6da', '#fae7dc', '#fae8de', '#fae9df', '#faeae1', '#f9ebe3', '#f9ede5', '#f9eee7', '#f9efe9', '#f9f0eb', '#f8f1ed', '#f8f2ef', '#f8f3f0', '#f8f4f2', '#f7f5f4', '#f7f6f6', '#f6f7f7', '#f5f6f7', '#f3f5f6', '#f2f5f6', '#f0f4f6', '#eff3f5', '#edf2f5', '#ecf2f5', '#eaf1f5', '#e9f0f4', '#e7f0f4', '#e6eff4', '#e4eef4', '#e3edf3', '#e1edf3', '#e0ecf3', '#deebf2', '#ddebf2', '#dbeaf2', '#dae9f2', '#d8e9f1', '#d7e8f1', '#d5e7f1', '#d4e6f1', '#d2e6f0', '#d1e5f0', '#cfe4ef', '#cce2ef', '#cae1ee', '#c7e0ed', '#c5dfec', '#c2ddec', '#c0dceb', '#bddbea', '#bbdaea', '#b8d8e9', '#b6d7e8', '#b3d6e8', '#b1d5e7', '#aed3e6', '#acd2e5', '#a9d1e5', '#a7d0e4', '#a5cee3', '#a2cde3', '#a0cce2', '#9dcbe1', '#9bc9e0', '#98c8e0', '#96c7df', '#93c6de', '#90c4dd', '#8dc2dc', '#8ac0db', '#87beda', '#84bcd9', '#81bad8', '#7eb8d7', '#7bb6d6', '#78b4d5', '#75b2d4', '#71b0d3', '#6eaed2', '#6bacd1', '#68abd0', '#65a9cf', '#62a7ce', '#5fa5cd', '#5ca3cb', '#59a1ca', '#569fc9', '#529dc8', '#4f9bc7', '#4c99c6', '#4997c5', '#4695c4', '#4393c3', '#4291c2', '#408fc1', '#3f8ec0', '#3e8cbf', '#3c8abe', '#3b88be', '#3a87bd', '#3885bc', '#3783bb', '#3681ba', '#3480b9', '#337eb8', '#327cb7', '#307ab6', '#2f79b5', '#2e77b5', '#2c75b4', '#2b73b3', '#2a71b2', '#2870b1', '#276eb0', '#266caf', '#246aae', '#2369ad', '#2267ac', '#2065ab', '#1f63a8', '#1e61a5', '#1d5fa2', '#1c5c9f', '#1b5a9c', '#1a5899', '#195696', '#185493', '#175290', '#15508d', '#144e8a', '#134c87', '#124984', '#114781', '#10457e', '#0f437b', '#0e4179', '#0d3f76', '#0c3d73', '#0a3b70', '#09386d', '#08366a', '#073467', '#063264', '#053061'], 'min': 0.0, 'max': 50.0}\n",
    "\n",
    "# Add SSC layer to the map\n",
    "m.addLayer(dataset.select('ssc').clip(lake), vis_params, 'SSC')"
   ]
  },
  {
   "cell_type": "code",
   "execution_count": null,
   "metadata": {
    "vscode": {
     "languageId": "ruby"
    }
   },
   "outputs": [
    {
     "data": {
      "text/html": [
       "\n",
       "            <style>\n",
       "                .geemap-dark {\n",
       "                    --jp-widgets-color: white;\n",
       "                    --jp-widgets-label-color: white;\n",
       "                    --jp-ui-font-color1: white;\n",
       "                    --jp-layout-color2: #454545;\n",
       "                    background-color: #383838;\n",
       "                }\n",
       "\n",
       "                .geemap-dark .jupyter-button {\n",
       "                    --jp-layout-color3: #383838;\n",
       "                }\n",
       "\n",
       "                .geemap-colab {\n",
       "                    background-color: var(--colab-primary-surface-color, white);\n",
       "                }\n",
       "\n",
       "                .geemap-colab .jupyter-button {\n",
       "                    --jp-layout-color3: var(--colab-primary-surface-color, white);\n",
       "                }\n",
       "            </style>\n",
       "            "
      ],
      "text/plain": [
       "<IPython.core.display.HTML object>"
      ]
     },
     "metadata": {},
     "output_type": "display_data"
    }
   ],
   "source": [
    "# Select thermal infrared bands\n",
    "tir1 = dataset.select('B10')  # 10.8-11.3 µm\n",
    "tir2 = dataset.select('B11')  # 11.5-12.5 µm\n",
    "\n",
    "# Calculate Kelvin temperature\n",
    "kelvin = tir2.divide(10).add(273.15)\n",
    "\n",
    "# Calculate Land Surface Temperature (LST)\n",
    "lst = kelvin.divide(ee.Image(1).toFloat().divide(tir2.divide(14380).add(1).log()))\n",
    "\n",
    "# Define emissivity and atmospheric correction\n",
    "emissivity = ee.Image(0.98)\n",
    "atm_corr = lst.multiply(0.99).add(0.11).multiply(emissivity).subtract(2.5)\n",
    "\n",
    "# Calculate Water Surface Temperature (WST)\n",
    "wst = atm_corr.subtract(273.15).rename('wst')\n",
    "\n",
    "# Define visualization parameters for WST\n",
    "wst_visualization = {\n",
    "    'min': 0,\n",
    "    'max': 30,\n",
    "    'palette': [\n",
    "        '0000FF',  # Blue\n",
    "        '00FFFF',  # Cyan\n",
    "        '00FF00',  # Green\n",
    "        'FFFF00',  # Yellow\n",
    "        'FFA500',  # Orange\n",
    "        'FF0000'   # Red\n",
    "    ]\n",
    "}\n",
    "\n",
    "# Add WST layer to the map\n",
    "m.addLayer(wst.clip(lake), wst_visualization, 'Water Surface Temperature')"
   ]
  },
  {
   "cell_type": "code",
   "execution_count": 36,
   "metadata": {},
   "outputs": [
    {
     "data": {
      "text/html": [
       "\n",
       "            <style>\n",
       "                .geemap-dark {\n",
       "                    --jp-widgets-color: white;\n",
       "                    --jp-widgets-label-color: white;\n",
       "                    --jp-ui-font-color1: white;\n",
       "                    --jp-layout-color2: #454545;\n",
       "                    background-color: #383838;\n",
       "                }\n",
       "\n",
       "                .geemap-dark .jupyter-button {\n",
       "                    --jp-layout-color3: #383838;\n",
       "                }\n",
       "\n",
       "                .geemap-colab {\n",
       "                    background-color: var(--colab-primary-surface-color, white);\n",
       "                }\n",
       "\n",
       "                .geemap-colab .jupyter-button {\n",
       "                    --jp-layout-color3: var(--colab-primary-surface-color, white);\n",
       "                }\n",
       "            </style>\n",
       "            "
      ],
      "text/plain": [
       "<IPython.core.display.HTML object>"
      ]
     },
     "metadata": {},
     "output_type": "display_data"
    },
    {
     "data": {
      "text/html": [
       "<div>\n",
       "<style scoped>\n",
       "    .dataframe tbody tr th:only-of-type {\n",
       "        vertical-align: middle;\n",
       "    }\n",
       "\n",
       "    .dataframe tbody tr th {\n",
       "        vertical-align: top;\n",
       "    }\n",
       "\n",
       "    .dataframe thead th {\n",
       "        text-align: right;\n",
       "    }\n",
       "</style>\n",
       "<table border=\"1\" class=\"dataframe\">\n",
       "  <thead>\n",
       "    <tr style=\"text-align: right;\">\n",
       "      <th></th>\n",
       "      <th>mean</th>\n",
       "      <th>Lake_name</th>\n",
       "      <th>system:index</th>\n",
       "    </tr>\n",
       "  </thead>\n",
       "  <tbody>\n",
       "    <tr>\n",
       "      <th>0</th>\n",
       "      <td>0.204702</td>\n",
       "      <td>Victoria</td>\n",
       "      <td>0</td>\n",
       "    </tr>\n",
       "  </tbody>\n",
       "</table>\n",
       "</div>"
      ],
      "text/plain": [
       "       mean Lake_name  system:index\n",
       "0  0.204702  Victoria             0"
      ]
     },
     "execution_count": 36,
     "metadata": {},
     "output_type": "execute_result"
    }
   ],
   "source": [
    "df = pd.read_csv(out_ndti_stats)\n",
    "df"
   ]
  },
  {
   "cell_type": "code",
   "execution_count": null,
   "metadata": {},
   "outputs": [],
   "source": []
  }
 ],
 "metadata": {
  "kernelspec": {
   "display_name": "Python 3",
   "language": "python",
   "name": "python3"
  },
  "language_info": {
   "codemirror_mode": {
    "name": "ipython",
    "version": 3
   },
   "file_extension": ".py",
   "mimetype": "text/x-python",
   "name": "python",
   "nbconvert_exporter": "python",
   "pygments_lexer": "ipython3",
   "version": "3.13.0"
  }
 },
 "nbformat": 4,
 "nbformat_minor": 2
}
